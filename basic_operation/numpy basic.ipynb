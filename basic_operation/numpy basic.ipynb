{
 "cells": [
  {
   "cell_type": "markdown",
   "id": "79ab160c",
   "metadata": {},
   "source": [
    "# Numpy Arrays\n",
    "Numpy fullmeanign is Numerical Python"
   ]
  },
  {
   "cell_type": "code",
   "execution_count": 1,
   "id": "de8dd87d",
   "metadata": {},
   "outputs": [],
   "source": [
    "import numpy as np"
   ]
  },
  {
   "cell_type": "code",
   "execution_count": 2,
   "id": "2d908b7c",
   "metadata": {},
   "outputs": [
    {
     "data": {
      "text/plain": [
       "'1.24.3'"
      ]
     },
     "execution_count": 2,
     "metadata": {},
     "output_type": "execute_result"
    }
   ],
   "source": [
    "np.__version__"
   ]
  },
  {
   "cell_type": "markdown",
   "id": "1a49e0f0",
   "metadata": {},
   "source": [
    "**vectors** are strictly 1-dimentional array\n",
    "**Matrics** are 2-dimentional array"
   ]
  },
  {
   "cell_type": "markdown",
   "id": "07b4af1d",
   "metadata": {},
   "source": [
    "## diffenecent between list and array\n",
    "list does not support arrithmatic operation,\n",
    "array support arrithmatic operation"
   ]
  },
  {
   "cell_type": "code",
   "execution_count": 3,
   "id": "a94cf3a1",
   "metadata": {},
   "outputs": [],
   "source": [
    "list=[5,8,9]"
   ]
  },
  {
   "cell_type": "code",
   "execution_count": 4,
   "id": "55d2572d",
   "metadata": {},
   "outputs": [
    {
     "data": {
      "text/plain": [
       "[9, 8, 5]"
      ]
     },
     "execution_count": 4,
     "metadata": {},
     "output_type": "execute_result"
    }
   ],
   "source": [
    "list[::-1]"
   ]
  },
  {
   "cell_type": "code",
   "execution_count": 5,
   "id": "49e7d500",
   "metadata": {},
   "outputs": [
    {
     "data": {
      "text/plain": [
       "[9, 5]"
      ]
     },
     "execution_count": 5,
     "metadata": {},
     "output_type": "execute_result"
    }
   ],
   "source": [
    "list[::-2]"
   ]
  },
  {
   "cell_type": "code",
   "execution_count": 6,
   "id": "562e5e53",
   "metadata": {},
   "outputs": [
    {
     "data": {
      "text/plain": [
       "[5, 8, 9, 5, 8, 9, 5, 8, 9]"
      ]
     },
     "execution_count": 6,
     "metadata": {},
     "output_type": "execute_result"
    }
   ],
   "source": [
    "list*3"
   ]
  },
  {
   "cell_type": "code",
   "execution_count": 7,
   "id": "24192749",
   "metadata": {},
   "outputs": [],
   "source": [
    "arr=np.array(list)"
   ]
  },
  {
   "cell_type": "code",
   "execution_count": 8,
   "id": "cde7e0f5",
   "metadata": {},
   "outputs": [],
   "source": [
    "arr[2]=56"
   ]
  },
  {
   "cell_type": "code",
   "execution_count": 9,
   "id": "3dfa13ec",
   "metadata": {},
   "outputs": [
    {
     "data": {
      "text/plain": [
       "array([ 5,  8, 56])"
      ]
     },
     "execution_count": 9,
     "metadata": {},
     "output_type": "execute_result"
    }
   ],
   "source": [
    "arr"
   ]
  },
  {
   "cell_type": "code",
   "execution_count": 10,
   "id": "a1a988df",
   "metadata": {},
   "outputs": [
    {
     "data": {
      "text/plain": [
       "array([ 15,  24, 168])"
      ]
     },
     "execution_count": 10,
     "metadata": {},
     "output_type": "execute_result"
    }
   ],
   "source": [
    "arr*3"
   ]
  },
  {
   "cell_type": "code",
   "execution_count": 11,
   "id": "a79be52a",
   "metadata": {},
   "outputs": [
    {
     "data": {
      "text/plain": [
       "8"
      ]
     },
     "execution_count": 11,
     "metadata": {},
     "output_type": "execute_result"
    }
   ],
   "source": [
    "arr[-2]"
   ]
  },
  {
   "cell_type": "code",
   "execution_count": 12,
   "id": "a2a4f0e5",
   "metadata": {},
   "outputs": [],
   "source": [
    "# create and cast a list of list to generate 2-d array\n",
    "matrix=[[4,5,6],[4,5,9],[8,5,2]]"
   ]
  },
  {
   "cell_type": "code",
   "execution_count": 13,
   "id": "9903805f",
   "metadata": {},
   "outputs": [
    {
     "data": {
      "text/plain": [
       "[[4, 5, 6], [4, 5, 9], [8, 5, 2]]"
      ]
     },
     "execution_count": 13,
     "metadata": {},
     "output_type": "execute_result"
    }
   ],
   "source": [
    "matrix"
   ]
  },
  {
   "cell_type": "code",
   "execution_count": 14,
   "id": "ad40fea6",
   "metadata": {},
   "outputs": [],
   "source": [
    "matrix_one=np.array(matrix)"
   ]
  },
  {
   "cell_type": "code",
   "execution_count": 15,
   "id": "d61e37ac",
   "metadata": {},
   "outputs": [
    {
     "data": {
      "text/plain": [
       "array([[4, 5, 6],\n",
       "       [4, 5, 9],\n",
       "       [8, 5, 2]])"
      ]
     },
     "execution_count": 15,
     "metadata": {},
     "output_type": "execute_result"
    }
   ],
   "source": [
    "matrix_one"
   ]
  },
  {
   "cell_type": "code",
   "execution_count": 16,
   "id": "0dca0666",
   "metadata": {},
   "outputs": [],
   "source": [
    "#all 0 matrix\n",
    "a=np.zeros(10)# its create only one dimentional array\n",
    "b=np.zeros((2,3))#its create 2 dimentional array_2 row and 3 colom"
   ]
  },
  {
   "cell_type": "code",
   "execution_count": 17,
   "id": "05a28e07",
   "metadata": {},
   "outputs": [
    {
     "data": {
      "text/plain": [
       "array([0., 0., 0., 0., 0., 0., 0., 0., 0., 0.])"
      ]
     },
     "execution_count": 17,
     "metadata": {},
     "output_type": "execute_result"
    }
   ],
   "source": [
    "a"
   ]
  },
  {
   "cell_type": "code",
   "execution_count": 18,
   "id": "120b50bf",
   "metadata": {},
   "outputs": [
    {
     "data": {
      "text/plain": [
       "array([[0., 0., 0.],\n",
       "       [0., 0., 0.]])"
      ]
     },
     "execution_count": 18,
     "metadata": {},
     "output_type": "execute_result"
    }
   ],
   "source": [
    "b"
   ]
  },
  {
   "cell_type": "code",
   "execution_count": 19,
   "id": "78c63b1a",
   "metadata": {},
   "outputs": [
    {
     "data": {
      "text/plain": [
       "array([1., 1., 1., 1., 1., 1., 1., 1., 1., 1.])"
      ]
     },
     "execution_count": 19,
     "metadata": {},
     "output_type": "execute_result"
    }
   ],
   "source": [
    "np.ones(10)"
   ]
  },
  {
   "cell_type": "code",
   "execution_count": 20,
   "id": "17dca1ef",
   "metadata": {},
   "outputs": [
    {
     "data": {
      "text/plain": [
       "array([[1., 1., 1.],\n",
       "       [1., 1., 1.]])"
      ]
     },
     "execution_count": 20,
     "metadata": {},
     "output_type": "execute_result"
    }
   ],
   "source": [
    "np.ones((2,3))"
   ]
  },
  {
   "cell_type": "code",
   "execution_count": 21,
   "id": "d8499cf7",
   "metadata": {},
   "outputs": [
    {
     "data": {
      "text/plain": [
       "array([1, 1, 1, 1, 1, 1, 1, 1, 1, 1])"
      ]
     },
     "execution_count": 21,
     "metadata": {},
     "output_type": "execute_result"
    }
   ],
   "source": [
    "np.ones(10, dtype='int32')"
   ]
  },
  {
   "cell_type": "code",
   "execution_count": 22,
   "id": "26c27c11",
   "metadata": {},
   "outputs": [
    {
     "data": {
      "text/plain": [
       "array([[99, 99, 99, 99, 99, 99],\n",
       "       [99, 99, 99, 99, 99, 99],\n",
       "       [99, 99, 99, 99, 99, 99],\n",
       "       [99, 99, 99, 99, 99, 99],\n",
       "       [99, 99, 99, 99, 99, 99]])"
      ]
     },
     "execution_count": 22,
     "metadata": {},
     "output_type": "execute_result"
    }
   ],
   "source": [
    "#any other number\n",
    "np.full((5,6),99)"
   ]
  },
  {
   "cell_type": "code",
   "execution_count": 23,
   "id": "65fd76f5",
   "metadata": {},
   "outputs": [
    {
     "data": {
      "text/plain": [
       "array([[0.99313611, 0.66547506],\n",
       "       [0.95161421, 0.69664501],\n",
       "       [0.43646506, 0.19262965],\n",
       "       [0.61715205, 0.95241571]])"
      ]
     },
     "execution_count": 23,
     "metadata": {},
     "output_type": "execute_result"
    }
   ],
   "source": [
    "#random decimal number\n",
    "np.random.rand(4,2)#its prinit always between 0 and 1"
   ]
  },
  {
   "cell_type": "code",
   "execution_count": 70,
   "id": "d2c5fcde",
   "metadata": {},
   "outputs": [],
   "source": [
    "a=np.random.randint(1,100,10)"
   ]
  },
  {
   "cell_type": "code",
   "execution_count": 71,
   "id": "4894b256",
   "metadata": {},
   "outputs": [
    {
     "data": {
      "text/plain": [
       "array([68, 58, 59, 66, 92, 60, 16, 65, 22, 27])"
      ]
     },
     "execution_count": 71,
     "metadata": {},
     "output_type": "execute_result"
    }
   ],
   "source": [
    "a"
   ]
  },
  {
   "cell_type": "code",
   "execution_count": 26,
   "id": "294fc25a",
   "metadata": {},
   "outputs": [],
   "source": [
    "a[0:2]=320"
   ]
  },
  {
   "cell_type": "code",
   "execution_count": 27,
   "id": "4c81cf55",
   "metadata": {},
   "outputs": [
    {
     "data": {
      "text/plain": [
       "array([320, 320,  42,  23,  31,  59,  50,   6,  71,  49])"
      ]
     },
     "execution_count": 27,
     "metadata": {},
     "output_type": "execute_result"
    }
   ],
   "source": [
    "a"
   ]
  },
  {
   "cell_type": "code",
   "execution_count": 28,
   "id": "941f7f1d",
   "metadata": {},
   "outputs": [
    {
     "data": {
      "text/plain": [
       "array([570, 570, 292, 273, 281, 309, 300, 256, 321, 299])"
      ]
     },
     "execution_count": 28,
     "metadata": {},
     "output_type": "execute_result"
    }
   ],
   "source": [
    "a+250"
   ]
  },
  {
   "cell_type": "code",
   "execution_count": 29,
   "id": "22430e59",
   "metadata": {},
   "outputs": [
    {
     "data": {
      "text/plain": [
       "1"
      ]
     },
     "execution_count": 29,
     "metadata": {},
     "output_type": "execute_result"
    }
   ],
   "source": [
    "a.ndim #dimention dekar jonno"
   ]
  },
  {
   "cell_type": "code",
   "execution_count": 30,
   "id": "5d9fb0f2",
   "metadata": {},
   "outputs": [
    {
     "data": {
      "text/plain": [
       "(10,)"
      ]
     },
     "execution_count": 30,
     "metadata": {},
     "output_type": "execute_result"
    }
   ],
   "source": [
    "a.shape"
   ]
  },
  {
   "cell_type": "code",
   "execution_count": 31,
   "id": "fbb24a12",
   "metadata": {},
   "outputs": [
    {
     "data": {
      "text/plain": [
       "4"
      ]
     },
     "execution_count": 31,
     "metadata": {},
     "output_type": "execute_result"
    }
   ],
   "source": [
    "a.itemsize #byte er size"
   ]
  },
  {
   "cell_type": "code",
   "execution_count": 32,
   "id": "4faf0612",
   "metadata": {},
   "outputs": [
    {
     "data": {
      "text/plain": [
       "10"
      ]
     },
     "execution_count": 32,
     "metadata": {},
     "output_type": "execute_result"
    }
   ],
   "source": [
    "a.size #array te koita item ace"
   ]
  },
  {
   "cell_type": "code",
   "execution_count": 33,
   "id": "82907cf3",
   "metadata": {},
   "outputs": [
    {
     "data": {
      "text/plain": [
       "40"
      ]
     },
     "execution_count": 33,
     "metadata": {},
     "output_type": "execute_result"
    }
   ],
   "source": [
    "a.nbytes #jeheto 4*10 ,every item get 4 bytes"
   ]
  },
  {
   "cell_type": "code",
   "execution_count": 34,
   "id": "d83d96e1",
   "metadata": {},
   "outputs": [
    {
     "data": {
      "text/plain": [
       "dtype('int32')"
      ]
     },
     "execution_count": 34,
     "metadata": {},
     "output_type": "execute_result"
    }
   ],
   "source": [
    "a.dtype"
   ]
  },
  {
   "cell_type": "code",
   "execution_count": 35,
   "id": "eb760421",
   "metadata": {},
   "outputs": [
    {
     "data": {
      "text/plain": [
       "array([[320, 320],\n",
       "       [ 42,  23],\n",
       "       [ 31,  59],\n",
       "       [ 50,   6],\n",
       "       [ 71,  49]])"
      ]
     },
     "execution_count": 35,
     "metadata": {},
     "output_type": "execute_result"
    }
   ],
   "source": [
    "a.reshape(5,2)"
   ]
  },
  {
   "cell_type": "code",
   "execution_count": 36,
   "id": "627a1705",
   "metadata": {},
   "outputs": [],
   "source": [
    "a.shape=(5,2) #eketre previous arrya ta change hoye jabe"
   ]
  },
  {
   "cell_type": "code",
   "execution_count": 37,
   "id": "9a81b91b",
   "metadata": {},
   "outputs": [
    {
     "data": {
      "text/plain": [
       "array([[320, 320],\n",
       "       [ 42,  23],\n",
       "       [ 31,  59],\n",
       "       [ 50,   6],\n",
       "       [ 71,  49]])"
      ]
     },
     "execution_count": 37,
     "metadata": {},
     "output_type": "execute_result"
    }
   ],
   "source": [
    "a"
   ]
  },
  {
   "cell_type": "code",
   "execution_count": null,
   "id": "48765038",
   "metadata": {},
   "outputs": [],
   "source": []
  },
  {
   "cell_type": "code",
   "execution_count": null,
   "id": "078da811",
   "metadata": {},
   "outputs": [],
   "source": []
  },
  {
   "cell_type": "code",
   "execution_count": null,
   "id": "2127154d",
   "metadata": {},
   "outputs": [],
   "source": []
  },
  {
   "cell_type": "code",
   "execution_count": 38,
   "id": "419f1fa4",
   "metadata": {},
   "outputs": [
    {
     "data": {
      "text/plain": [
       "320"
      ]
     },
     "execution_count": 38,
     "metadata": {},
     "output_type": "execute_result"
    }
   ],
   "source": [
    "a.max()"
   ]
  },
  {
   "cell_type": "code",
   "execution_count": 39,
   "id": "c460f3b2",
   "metadata": {},
   "outputs": [
    {
     "data": {
      "text/plain": [
       "6"
      ]
     },
     "execution_count": 39,
     "metadata": {},
     "output_type": "execute_result"
    }
   ],
   "source": [
    "a.min()"
   ]
  },
  {
   "cell_type": "code",
   "execution_count": 40,
   "id": "841b38db",
   "metadata": {},
   "outputs": [
    {
     "data": {
      "text/plain": [
       "0"
      ]
     },
     "execution_count": 40,
     "metadata": {},
     "output_type": "execute_result"
    }
   ],
   "source": [
    "a.argmax()"
   ]
  },
  {
   "cell_type": "code",
   "execution_count": 41,
   "id": "1f5e17f6",
   "metadata": {},
   "outputs": [
    {
     "data": {
      "text/plain": [
       "7"
      ]
     },
     "execution_count": 41,
     "metadata": {},
     "output_type": "execute_result"
    }
   ],
   "source": [
    "a.argmin()"
   ]
  },
  {
   "cell_type": "code",
   "execution_count": 42,
   "id": "320ac15b",
   "metadata": {},
   "outputs": [
    {
     "data": {
      "text/plain": [
       "array([[ 2,  2,  6],\n",
       "       [ 5,  0,  7],\n",
       "       [ 3,  3, -4]])"
      ]
     },
     "execution_count": 42,
     "metadata": {},
     "output_type": "execute_result"
    }
   ],
   "source": [
    "#random integer valus\n",
    "np.random.randint(-4,9, size=(3,3)) #provide 3*3 matrix but every value is print betwen -4 and 9"
   ]
  },
  {
   "cell_type": "code",
   "execution_count": 43,
   "id": "e4f7a022",
   "metadata": {},
   "outputs": [
    {
     "data": {
      "text/plain": [
       "array([-0.27429515,  0.18613391, -0.99683475, -0.70607791,  0.07773093,\n",
       "       -0.19285099, -0.49181314, -2.69967447,  0.06037841,  1.25792639,\n",
       "       -1.00793863,  0.21183131, -0.30066029,  0.1695865 , -0.55077561,\n",
       "       -0.03916292, -0.17772462,  0.92956208, -0.10696126, -0.35984294,\n",
       "        0.17987089,  0.25140746, -1.46146498,  0.73538152, -1.22341248,\n",
       "        1.06003247, -0.4808318 , -1.10543768,  0.26992438,  0.88690091,\n",
       "       -1.51074846, -0.20323845, -0.4316014 , -1.5734309 , -0.63359801,\n",
       "       -1.3670215 ,  0.33865661,  1.41693295, -0.72027012, -0.43720779,\n",
       "        2.17904113,  0.64671239,  0.09172898, -1.38541149,  0.43796997,\n",
       "        0.65509139, -0.46532112,  0.17607119,  0.97367185,  0.60720419])"
      ]
     },
     "execution_count": 43,
     "metadata": {},
     "output_type": "execute_result"
    }
   ],
   "source": [
    "np.random.randn(50)"
   ]
  },
  {
   "cell_type": "code",
   "execution_count": 44,
   "id": "94be3cef",
   "metadata": {},
   "outputs": [
    {
     "data": {
      "text/plain": [
       "array([[1., 0., 0., 0., 0.],\n",
       "       [0., 1., 0., 0., 0.],\n",
       "       [0., 0., 1., 0., 0.],\n",
       "       [0., 0., 0., 1., 0.],\n",
       "       [0., 0., 0., 0., 1.]])"
      ]
     },
     "execution_count": 44,
     "metadata": {},
     "output_type": "execute_result"
    }
   ],
   "source": [
    "#the identity matrix\n",
    "np.identity(5)"
   ]
  },
  {
   "cell_type": "code",
   "execution_count": 45,
   "id": "b6102089",
   "metadata": {},
   "outputs": [
    {
     "data": {
      "text/plain": [
       "array([[1., 0., 0., 0., 0.],\n",
       "       [0., 1., 0., 0., 0.],\n",
       "       [0., 0., 1., 0., 0.],\n",
       "       [0., 0., 0., 1., 0.],\n",
       "       [0., 0., 0., 0., 1.]])"
      ]
     },
     "execution_count": 45,
     "metadata": {},
     "output_type": "execute_result"
    }
   ],
   "source": [
    "np.eye(5)"
   ]
  },
  {
   "cell_type": "markdown",
   "id": "95fb3c15",
   "metadata": {},
   "source": [
    "### arange()"
   ]
  },
  {
   "cell_type": "code",
   "execution_count": 46,
   "id": "3c41c4c4",
   "metadata": {},
   "outputs": [
    {
     "data": {
      "text/plain": [
       "array([ 0,  1,  2,  3,  4,  5,  6,  7,  8,  9, 10, 11, 12, 13, 14, 15, 16,\n",
       "       17, 18, 19, 20, 21, 22, 23, 24, 25, 26, 27, 28, 29, 30, 31, 32, 33,\n",
       "       34, 35, 36, 37, 38, 39, 40, 41, 42, 43, 44, 45, 46, 47, 48, 49, 50,\n",
       "       51, 52, 53, 54, 55, 56, 57, 58, 59, 60, 61, 62, 63, 64, 65, 66, 67,\n",
       "       68, 69, 70, 71, 72, 73, 74, 75, 76, 77, 78, 79, 80, 81, 82, 83, 84,\n",
       "       85, 86, 87, 88, 89, 90, 91, 92, 93, 94, 95, 96, 97, 98, 99])"
      ]
     },
     "execution_count": 46,
     "metadata": {},
     "output_type": "execute_result"
    }
   ],
   "source": [
    "np.arange(100) #print 0 to 99 not include 100"
   ]
  },
  {
   "cell_type": "code",
   "execution_count": 47,
   "id": "1d674b62",
   "metadata": {},
   "outputs": [
    {
     "data": {
      "text/plain": [
       "array([3, 5, 7, 9])"
      ]
     },
     "execution_count": 47,
     "metadata": {},
     "output_type": "execute_result"
    }
   ],
   "source": [
    "np.arange(3,10,2)# step 2"
   ]
  },
  {
   "cell_type": "code",
   "execution_count": 48,
   "id": "9f40bc3f",
   "metadata": {},
   "outputs": [
    {
     "data": {
      "text/plain": [
       "array([0., 2., 4., 6., 8.])"
      ]
     },
     "execution_count": 48,
     "metadata": {},
     "output_type": "execute_result"
    }
   ],
   "source": [
    "np.arange(0,10,2,  dtype=float)"
   ]
  },
  {
   "cell_type": "markdown",
   "id": "85138fa5",
   "metadata": {},
   "source": [
    "### linspace()"
   ]
  },
  {
   "cell_type": "code",
   "execution_count": 49,
   "id": "edcf410e",
   "metadata": {},
   "outputs": [
    {
     "data": {
      "text/plain": [
       "(array([ 5.        ,  5.10204082,  5.20408163,  5.30612245,  5.40816327,\n",
       "         5.51020408,  5.6122449 ,  5.71428571,  5.81632653,  5.91836735,\n",
       "         6.02040816,  6.12244898,  6.2244898 ,  6.32653061,  6.42857143,\n",
       "         6.53061224,  6.63265306,  6.73469388,  6.83673469,  6.93877551,\n",
       "         7.04081633,  7.14285714,  7.24489796,  7.34693878,  7.44897959,\n",
       "         7.55102041,  7.65306122,  7.75510204,  7.85714286,  7.95918367,\n",
       "         8.06122449,  8.16326531,  8.26530612,  8.36734694,  8.46938776,\n",
       "         8.57142857,  8.67346939,  8.7755102 ,  8.87755102,  8.97959184,\n",
       "         9.08163265,  9.18367347,  9.28571429,  9.3877551 ,  9.48979592,\n",
       "         9.59183673,  9.69387755,  9.79591837,  9.89795918, 10.        ]),\n",
       " 0.10204081632653061)"
      ]
     },
     "execution_count": 49,
     "metadata": {},
     "output_type": "execute_result"
    }
   ],
   "source": [
    "np.linspace(5,10,50 ,retstep=True) #its return all value beteween 1 and 2 and total 50 ta and see difference"
   ]
  },
  {
   "cell_type": "markdown",
   "id": "92d1a9ad",
   "metadata": {},
   "source": [
    "### arithmatic operation"
   ]
  },
  {
   "cell_type": "code",
   "execution_count": 50,
   "id": "5f0d4175",
   "metadata": {},
   "outputs": [],
   "source": [
    "arr=np.arange(0,5)"
   ]
  },
  {
   "cell_type": "code",
   "execution_count": 51,
   "id": "7b1468b2",
   "metadata": {},
   "outputs": [
    {
     "data": {
      "text/plain": [
       "array([0, 1, 2, 3, 4])"
      ]
     },
     "execution_count": 51,
     "metadata": {},
     "output_type": "execute_result"
    }
   ],
   "source": [
    "arr"
   ]
  },
  {
   "cell_type": "code",
   "execution_count": 52,
   "id": "081ce586",
   "metadata": {},
   "outputs": [
    {
     "data": {
      "text/plain": [
       "array([0, 2, 4, 6, 8])"
      ]
     },
     "execution_count": 52,
     "metadata": {},
     "output_type": "execute_result"
    }
   ],
   "source": [
    "arr+arr"
   ]
  },
  {
   "cell_type": "code",
   "execution_count": 53,
   "id": "38d3fb61",
   "metadata": {},
   "outputs": [
    {
     "data": {
      "text/plain": [
       "array([0, 0, 0, 0, 0])"
      ]
     },
     "execution_count": 53,
     "metadata": {},
     "output_type": "execute_result"
    }
   ],
   "source": [
    "arr-arr"
   ]
  },
  {
   "cell_type": "code",
   "execution_count": 54,
   "id": "a9a3d71b",
   "metadata": {},
   "outputs": [
    {
     "data": {
      "text/plain": [
       "array([ 0,  1,  4,  9, 16])"
      ]
     },
     "execution_count": 54,
     "metadata": {},
     "output_type": "execute_result"
    }
   ],
   "source": [
    "arr*arr"
   ]
  },
  {
   "cell_type": "code",
   "execution_count": 55,
   "id": "553294a5",
   "metadata": {},
   "outputs": [
    {
     "name": "stderr",
     "output_type": "stream",
     "text": [
      "C:\\Users\\Khalil\\AppData\\Local\\Temp\\ipykernel_4600\\1862401812.py:1: RuntimeWarning: invalid value encountered in divide\n",
      "  arr/arr\n"
     ]
    },
    {
     "data": {
      "text/plain": [
       "array([nan,  1.,  1.,  1.,  1.])"
      ]
     },
     "execution_count": 55,
     "metadata": {},
     "output_type": "execute_result"
    }
   ],
   "source": [
    "arr/arr"
   ]
  },
  {
   "cell_type": "code",
   "execution_count": 56,
   "id": "483e9081",
   "metadata": {},
   "outputs": [
    {
     "name": "stderr",
     "output_type": "stream",
     "text": [
      "C:\\Users\\Khalil\\AppData\\Local\\Temp\\ipykernel_4600\\3122599543.py:1: RuntimeWarning: divide by zero encountered in divide\n",
      "  5/arr\n"
     ]
    },
    {
     "data": {
      "text/plain": [
       "array([       inf, 5.        , 2.5       , 1.66666667, 1.25      ])"
      ]
     },
     "execution_count": 56,
     "metadata": {},
     "output_type": "execute_result"
    }
   ],
   "source": [
    "5/arr"
   ]
  },
  {
   "cell_type": "code",
   "execution_count": 57,
   "id": "e57b2a38",
   "metadata": {},
   "outputs": [
    {
     "data": {
      "text/plain": [
       "array([0, 2, 4, 6, 8])"
      ]
     },
     "execution_count": 57,
     "metadata": {},
     "output_type": "execute_result"
    }
   ],
   "source": [
    "2*arr"
   ]
  },
  {
   "cell_type": "markdown",
   "id": "f46eafc3",
   "metadata": {},
   "source": [
    "### Universal functions"
   ]
  },
  {
   "cell_type": "code",
   "execution_count": 58,
   "id": "31c6f782",
   "metadata": {},
   "outputs": [
    {
     "data": {
      "text/plain": [
       "array([0, 1, 2, 3, 4])"
      ]
     },
     "execution_count": 58,
     "metadata": {},
     "output_type": "execute_result"
    }
   ],
   "source": [
    "arr"
   ]
  },
  {
   "cell_type": "code",
   "execution_count": 59,
   "id": "e399f076",
   "metadata": {},
   "outputs": [
    {
     "data": {
      "text/plain": [
       "array([0.        , 1.        , 1.41421356, 1.73205081, 2.        ])"
      ]
     },
     "execution_count": 59,
     "metadata": {},
     "output_type": "execute_result"
    }
   ],
   "source": [
    "np.sqrt(arr)"
   ]
  },
  {
   "cell_type": "code",
   "execution_count": 60,
   "id": "d3f87733",
   "metadata": {},
   "outputs": [
    {
     "data": {
      "text/plain": [
       "(4, 0)"
      ]
     },
     "execution_count": 60,
     "metadata": {},
     "output_type": "execute_result"
    }
   ],
   "source": [
    "np.max(arr),np.min(arr)"
   ]
  },
  {
   "cell_type": "code",
   "execution_count": 61,
   "id": "e81238a3",
   "metadata": {},
   "outputs": [
    {
     "data": {
      "text/plain": [
       "array([ 0.        ,  0.84147098,  0.90929743,  0.14112001, -0.7568025 ])"
      ]
     },
     "execution_count": 61,
     "metadata": {},
     "output_type": "execute_result"
    }
   ],
   "source": [
    "np.sin(arr)"
   ]
  },
  {
   "cell_type": "code",
   "execution_count": 62,
   "id": "beb6fe63",
   "metadata": {},
   "outputs": [
    {
     "data": {
      "text/plain": [
       "array([ 1.        ,  0.54030231, -0.41614684, -0.9899925 , -0.65364362])"
      ]
     },
     "execution_count": 62,
     "metadata": {},
     "output_type": "execute_result"
    }
   ],
   "source": [
    "np.cos(arr)"
   ]
  },
  {
   "cell_type": "markdown",
   "id": "0cbcf743",
   "metadata": {},
   "source": [
    "generate the follow matrix \"array 2d\" and replicate the provided outputs"
   ]
  },
  {
   "cell_type": "code",
   "execution_count": 63,
   "id": "d9e5564e",
   "metadata": {},
   "outputs": [],
   "source": [
    "arry_2d=np.arange(30).reshape(6,5)"
   ]
  },
  {
   "cell_type": "code",
   "execution_count": 64,
   "id": "f07adac5",
   "metadata": {},
   "outputs": [
    {
     "data": {
      "text/plain": [
       "array([[ 0,  1,  2,  3,  4],\n",
       "       [ 5,  6,  7,  8,  9],\n",
       "       [10, 11, 12, 13, 14],\n",
       "       [15, 16, 17, 18, 19],\n",
       "       [20, 21, 22, 23, 24],\n",
       "       [25, 26, 27, 28, 29]])"
      ]
     },
     "execution_count": 64,
     "metadata": {},
     "output_type": "execute_result"
    }
   ],
   "source": [
    "arry_2d"
   ]
  },
  {
   "cell_type": "code",
   "execution_count": 65,
   "id": "0527fcb4",
   "metadata": {},
   "outputs": [
    {
     "data": {
      "text/plain": [
       "435"
      ]
     },
     "execution_count": 65,
     "metadata": {},
     "output_type": "execute_result"
    }
   ],
   "source": [
    "arry_2d.sum() #sum of all item"
   ]
  },
  {
   "cell_type": "code",
   "execution_count": 66,
   "id": "8c51bba2",
   "metadata": {},
   "outputs": [
    {
     "data": {
      "text/plain": [
       "array([75, 81, 87, 93, 99])"
      ]
     },
     "execution_count": 66,
     "metadata": {},
     "output_type": "execute_result"
    }
   ],
   "source": [
    "arry_2d.sum(axis=0) # only sum of every column"
   ]
  },
  {
   "cell_type": "code",
   "execution_count": 67,
   "id": "43885033",
   "metadata": {},
   "outputs": [
    {
     "data": {
      "text/plain": [
       "array([ 10,  35,  60,  85, 110, 135])"
      ]
     },
     "execution_count": 67,
     "metadata": {},
     "output_type": "execute_result"
    }
   ],
   "source": [
    "arry_2d.sum(axis=1) # only sum of row"
   ]
  },
  {
   "cell_type": "code",
   "execution_count": 68,
   "id": "b8bfd99d",
   "metadata": {},
   "outputs": [
    {
     "data": {
      "text/plain": [
       "8.65544144839919"
      ]
     },
     "execution_count": 68,
     "metadata": {},
     "output_type": "execute_result"
    }
   ],
   "source": [
    "arry_2d.std() #standard deviation"
   ]
  },
  {
   "cell_type": "code",
   "execution_count": 4,
   "id": "3f119c49",
   "metadata": {},
   "outputs": [
    {
     "name": "stdout",
     "output_type": "stream",
     "text": [
      "Each item contains 4 bytes\n"
     ]
    }
   ],
   "source": [
    "#finding the size of each item in the array  \n",
    "import numpy as np  \n",
    "a = np.array([[1,2,3]])  \n",
    "print(\"Each item contains\",a.itemsize,\"bytes\")  "
   ]
  },
  {
   "cell_type": "code",
   "execution_count": 2,
   "id": "5eed4600",
   "metadata": {},
   "outputs": [
    {
     "data": {
      "text/plain": [
       "3"
      ]
     },
     "execution_count": 2,
     "metadata": {},
     "output_type": "execute_result"
    }
   ],
   "source": [
    "a.size"
   ]
  },
  {
   "cell_type": "code",
   "execution_count": 8,
   "id": "0fdc6499",
   "metadata": {},
   "outputs": [],
   "source": [
    "b=np.array([[5,2,3],[4,8,9]])"
   ]
  },
  {
   "cell_type": "code",
   "execution_count": 14,
   "id": "81e663f0",
   "metadata": {},
   "outputs": [
    {
     "name": "stdout",
     "output_type": "stream",
     "text": [
      "2.544056253745625\n"
     ]
    }
   ],
   "source": [
    "print(np.std(b))"
   ]
  },
  {
   "cell_type": "code",
   "execution_count": null,
   "id": "d3505eed",
   "metadata": {},
   "outputs": [],
   "source": []
  },
  {
   "cell_type": "code",
   "execution_count": 13,
   "id": "2b0d7ace",
   "metadata": {},
   "outputs": [
    {
     "name": "stdout",
     "output_type": "stream",
     "text": [
      "[[2.23606798 1.41421356 1.73205081]\n",
      " [2.         2.82842712 3.        ]]\n"
     ]
    }
   ],
   "source": [
    "print(np.sqrt(b))"
   ]
  },
  {
   "cell_type": "code",
   "execution_count": 11,
   "id": "14931ae1",
   "metadata": {},
   "outputs": [
    {
     "data": {
      "text/plain": [
       "array([[5, 2],\n",
       "       [3, 4],\n",
       "       [8, 9]])"
      ]
     },
     "execution_count": 11,
     "metadata": {},
     "output_type": "execute_result"
    }
   ],
   "source": [
    "b.reshape(3,2)"
   ]
  },
  {
   "cell_type": "code",
   "execution_count": 15,
   "id": "17c96309",
   "metadata": {},
   "outputs": [
    {
     "name": "stdout",
     "output_type": "stream",
     "text": [
      "[[6619244     115]\n",
      " [5177411 5046349]\n",
      " [5111887 5374032]]\n"
     ]
    }
   ],
   "source": [
    "arr = np.empty((3,2), dtype = int)  \n",
    "print(arr)  "
   ]
  },
  {
   "cell_type": "code",
   "execution_count": 19,
   "id": "86fadb7a",
   "metadata": {},
   "outputs": [
    {
     "name": "stdout",
     "output_type": "stream",
     "text": [
      "[[1 1]\n",
      " [1 1]\n",
      " [1 1]]\n"
     ]
    }
   ],
   "source": [
    "arr = np.ones((3,2), dtype = int)  \n",
    "print(arr)  "
   ]
  },
  {
   "cell_type": "code",
   "execution_count": 22,
   "id": "15903851",
   "metadata": {},
   "outputs": [
    {
     "data": {
      "text/plain": [
       "array([10, 12, 14, 16, 18])"
      ]
     },
     "execution_count": 22,
     "metadata": {},
     "output_type": "execute_result"
    }
   ],
   "source": [
    "arr = np.arange(10,20,2,int)  \n",
    "arr"
   ]
  },
  {
   "cell_type": "code",
   "execution_count": 3,
   "id": "6029ace2",
   "metadata": {},
   "outputs": [],
   "source": [
    "arr = np.linspace(10,30,5)  "
   ]
  },
  {
   "cell_type": "raw",
   "id": "ea22b356",
   "metadata": {},
   "source": [
    "arr"
   ]
  },
  {
   "cell_type": "code",
   "execution_count": 4,
   "id": "0a519e65",
   "metadata": {},
   "outputs": [
    {
     "name": "stdout",
     "output_type": "stream",
     "text": [
      "[[1 1]\n",
      " [1 1]\n",
      " [1 1]]\n"
     ]
    }
   ],
   "source": [
    "arr = np.ones((3,2), dtype = int)  \n",
    "print(arr)  "
   ]
  },
  {
   "cell_type": "code",
   "execution_count": 5,
   "id": "95b1ded6",
   "metadata": {},
   "outputs": [
    {
     "data": {
      "text/plain": [
       "array([[1, 1],\n",
       "       [1, 1],\n",
       "       [1, 1]])"
      ]
     },
     "execution_count": 5,
     "metadata": {},
     "output_type": "execute_result"
    }
   ],
   "source": [
    "arr"
   ]
  },
  {
   "cell_type": "code",
   "execution_count": 8,
   "id": "34432d42",
   "metadata": {},
   "outputs": [
    {
     "data": {
      "text/plain": [
       "array([10.  , 13.75, 17.5 , 21.25, 25.  ])"
      ]
     },
     "execution_count": 8,
     "metadata": {},
     "output_type": "execute_result"
    }
   ],
   "source": [
    "np.linspace(10,25,5)"
   ]
  },
  {
   "cell_type": "code",
   "execution_count": 10,
   "id": "ee53672d",
   "metadata": {},
   "outputs": [
    {
     "data": {
      "text/plain": [
       "array([10, 15, 20])"
      ]
     },
     "execution_count": 10,
     "metadata": {},
     "output_type": "execute_result"
    }
   ],
   "source": [
    "np.arange(10,25,5)"
   ]
  },
  {
   "cell_type": "code",
   "execution_count": 18,
   "id": "9fba9cfa",
   "metadata": {},
   "outputs": [],
   "source": [
    "arr = np.logspace(10, 20, num = 2,base = 2, endpoint = True)  "
   ]
  },
  {
   "cell_type": "code",
   "execution_count": 19,
   "id": "553bda10",
   "metadata": {},
   "outputs": [
    {
     "data": {
      "text/plain": [
       "array([1.024000e+03, 1.048576e+06])"
      ]
     },
     "execution_count": 19,
     "metadata": {},
     "output_type": "execute_result"
    }
   ],
   "source": [
    "arr"
   ]
  },
  {
   "cell_type": "code",
   "execution_count": 20,
   "id": "53d66494",
   "metadata": {},
   "outputs": [
    {
     "data": {
      "text/plain": [
       "array([12.+0.j, 45.+0.j,  3.+0.j])"
      ]
     },
     "execution_count": 20,
     "metadata": {},
     "output_type": "execute_result"
    }
   ],
   "source": [
    "arr=np.array([12,45.,3.],dtype=complex)  \n",
    "arr  "
   ]
  },
  {
   "cell_type": "code",
   "execution_count": 21,
   "id": "9290fef7",
   "metadata": {},
   "outputs": [
    {
     "data": {
      "text/plain": [
       "array([[1, 2],\n",
       "       [3, 4]])"
      ]
     },
     "execution_count": 21,
     "metadata": {},
     "output_type": "execute_result"
    }
   ],
   "source": [
    "arr=np.array(np.mat('1 2;3 4'))  \n",
    "arr "
   ]
  },
  {
   "cell_type": "code",
   "execution_count": 22,
   "id": "df51361e",
   "metadata": {},
   "outputs": [
    {
     "name": "stdout",
     "output_type": "stream",
     "text": [
      "[[1 2]\n",
      " [3 4]]\n"
     ]
    }
   ],
   "source": [
    "print(arr)"
   ]
  },
  {
   "cell_type": "markdown",
   "id": "479b00a1",
   "metadata": {},
   "source": [
    "### numpy concatenate "
   ]
  },
  {
   "cell_type": "code",
   "execution_count": 53,
   "id": "10869d68",
   "metadata": {},
   "outputs": [
    {
     "data": {
      "text/plain": [
       "array([[ 1,  2],\n",
       "       [ 3,  4],\n",
       "       [12, 30]])"
      ]
     },
     "execution_count": 53,
     "metadata": {},
     "output_type": "execute_result"
    }
   ],
   "source": [
    "x=np.array([[1,2],[3,4]])  \n",
    "y=np.array([[12,30]])  \n",
    "z=np.concatenate((x,y))  #default axis 0\n",
    "z  "
   ]
  },
  {
   "cell_type": "code",
   "execution_count": 45,
   "id": "9ce1a9f4",
   "metadata": {},
   "outputs": [
    {
     "data": {
      "text/plain": [
       "array([[ 1,  2, 12],\n",
       "       [ 3,  4, 30]])"
      ]
     },
     "execution_count": 45,
     "metadata": {},
     "output_type": "execute_result"
    }
   ],
   "source": [
    "x=np.array([[1,2],[3,4]])  \n",
    "y=np.array([[12,30]])  \n",
    "z=np.concatenate((x,y.T),axis=1)  #T used to change the rows into columns and columns into rows.\n",
    "z  "
   ]
  },
  {
   "cell_type": "code",
   "execution_count": 43,
   "id": "8849d896",
   "metadata": {},
   "outputs": [
    {
     "data": {
      "text/plain": [
       "array([ 1,  2,  3,  4, 12, 30])"
      ]
     },
     "execution_count": 43,
     "metadata": {},
     "output_type": "execute_result"
    }
   ],
   "source": [
    "x=np.array([[1,2],[3,4]])  \n",
    "y=np.array([[12,30]])  \n",
    "z=np.concatenate((x,y), axis=None)  \n",
    "z  "
   ]
  },
  {
   "cell_type": "markdown",
   "id": "41ab6c8a",
   "metadata": {},
   "source": [
    "### np.append({a1,a2,...}, axis=0)"
   ]
  },
  {
   "cell_type": "code",
   "execution_count": 54,
   "id": "df5bc9a8",
   "metadata": {},
   "outputs": [
    {
     "data": {
      "text/plain": [
       "array([[10, 20, 30],\n",
       "       [40, 50, 60],\n",
       "       [70, 80, 90],\n",
       "       [11, 21, 31],\n",
       "       [42, 52, 62]])"
      ]
     },
     "execution_count": 54,
     "metadata": {},
     "output_type": "execute_result"
    }
   ],
   "source": [
    "a=np.array([[10, 20, 30], [40, 50, 60], [70, 80, 90]])  \n",
    "b=np.array([[11, 21, 31], [42, 52, 62]])  \n",
    "c=np.concatenate((a,b),axis=0)  \n",
    "c  "
   ]
  },
  {
   "cell_type": "markdown",
   "id": "54ecf66a",
   "metadata": {},
   "source": [
    "### np.append({a1,a2,...}, axis=1)"
   ]
  },
  {
   "cell_type": "code",
   "execution_count": 37,
   "id": "e0ce4bde",
   "metadata": {},
   "outputs": [
    {
     "data": {
      "text/plain": [
       "array([[10, 20, 30, 11, 21, 31],\n",
       "       [40, 50, 60, 42, 52, 62],\n",
       "       [70, 80, 90, 73, 83, 93]])"
      ]
     },
     "execution_count": 37,
     "metadata": {},
     "output_type": "execute_result"
    }
   ],
   "source": [
    "a=np.array([[10, 20, 30], [40, 50, 60], [70, 80, 90]])  \n",
    "b=np.array([[11, 21, 31], [42, 52, 62], [73, 83, 93]])  \n",
    "c=np.append(a,b,axis=1)  \n",
    "c  "
   ]
  },
  {
   "cell_type": "markdown",
   "id": "70231f4f",
   "metadata": {},
   "source": [
    "### numpy.reshape()"
   ]
  },
  {
   "cell_type": "code",
   "execution_count": 67,
   "id": "65b9cf37",
   "metadata": {},
   "outputs": [
    {
     "name": "stdout",
     "output_type": "stream",
     "text": [
      "[[0 2]\n",
      " [1 3]]\n"
     ]
    }
   ],
   "source": [
    "x=np.arange(4)  \n",
    "y=np.reshape(x, (2,2),order='F') # ekane A and C dile row onujai increment hobe\n",
    "print(y)"
   ]
  },
  {
   "cell_type": "markdown",
   "id": "7b0e021a",
   "metadata": {},
   "source": [
    "### numpy.sum() "
   ]
  },
  {
   "cell_type": "code",
   "execution_count": 69,
   "id": "cb1e372e",
   "metadata": {},
   "outputs": [
    {
     "name": "stdout",
     "output_type": "stream",
     "text": [
      "[5 8]\n"
     ]
    }
   ],
   "source": [
    "a=np.array([[1,4],[3,5]])  \n",
    "b=np.sum(a,axis=1)  \n",
    "print(b)  "
   ]
  },
  {
   "cell_type": "markdown",
   "id": "71766c48",
   "metadata": {},
   "source": [
    "### random "
   ]
  },
  {
   "cell_type": "code",
   "execution_count": 86,
   "id": "82a7fc21",
   "metadata": {},
   "outputs": [
    {
     "data": {
      "text/plain": [
       "array([[0.12407204, 0.131863  ],\n",
       "       [0.33462345, 0.72077533],\n",
       "       [0.14528893, 0.12958929],\n",
       "       [0.13425079, 0.51868443]])"
      ]
     },
     "execution_count": 86,
     "metadata": {},
     "output_type": "execute_result"
    }
   ],
   "source": [
    "np.random.rand(4,2)"
   ]
  },
  {
   "cell_type": "code",
   "execution_count": 89,
   "id": "49532845",
   "metadata": {},
   "outputs": [
    {
     "name": "stdout",
     "output_type": "stream",
     "text": [
      "[92 42 14 34 37 36 82 29 28 90]\n"
     ]
    }
   ],
   "source": [
    "a=np.random.randint(1,100,10)\n",
    "print(a)"
   ]
  },
  {
   "cell_type": "markdown",
   "id": "c3945353",
   "metadata": {},
   "source": [
    "# numpy.zeros()"
   ]
  },
  {
   "cell_type": "code",
   "execution_count": 91,
   "id": "7a1fdca5",
   "metadata": {},
   "outputs": [
    {
     "data": {
      "text/plain": [
       "array([[0., 0.],\n",
       "       [0., 0.],\n",
       "       [0., 0.],\n",
       "       [0., 0.],\n",
       "       [0., 0.],\n",
       "       [0., 0.]])"
      ]
     },
     "execution_count": 91,
     "metadata": {},
     "output_type": "execute_result"
    }
   ],
   "source": [
    "a=np.zeros((6,2))  \n",
    "a  "
   ]
  },
  {
   "cell_type": "code",
   "execution_count": 3,
   "id": "4c721692",
   "metadata": {},
   "outputs": [
    {
     "data": {
      "text/plain": [
       "array([[1., 1.],\n",
       "       [1., 1.],\n",
       "       [1., 1.],\n",
       "       [1., 1.],\n",
       "       [1., 1.],\n",
       "       [1., 1.]])"
      ]
     },
     "execution_count": 3,
     "metadata": {},
     "output_type": "execute_result"
    }
   ],
   "source": [
    "a=np.ones((6,2))  \n",
    "a  "
   ]
  },
  {
   "cell_type": "code",
   "execution_count": 7,
   "id": "36a4cf66",
   "metadata": {},
   "outputs": [
    {
     "data": {
      "text/plain": [
       "array([[1., 0., 0.],\n",
       "       [0., 1., 0.],\n",
       "       [0., 0., 1.]])"
      ]
     },
     "execution_count": 7,
     "metadata": {},
     "output_type": "execute_result"
    }
   ],
   "source": [
    "a=np.eye(3,3)  \n",
    "a  "
   ]
  },
  {
   "cell_type": "markdown",
   "id": "8e81e1e3",
   "metadata": {},
   "source": [
    "# numpy.log()"
   ]
  },
  {
   "cell_type": "code",
   "execution_count": 9,
   "id": "21c81008",
   "metadata": {},
   "outputs": [
    {
     "data": {
      "text/plain": [
       "array([0.69314718, 1.38629436, 1.79175947, 8.78889831])"
      ]
     },
     "execution_count": 9,
     "metadata": {},
     "output_type": "execute_result"
    }
   ],
   "source": [
    "a=np.array([2, 4, 6, 3**8])   \n",
    "b=np.log(a)  \n",
    "b  \n",
    "  "
   ]
  },
  {
   "cell_type": "code",
   "execution_count": null,
   "id": "dfc30436",
   "metadata": {},
   "outputs": [],
   "source": []
  },
  {
   "cell_type": "code",
   "execution_count": 14,
   "id": "2d631f44",
   "metadata": {},
   "outputs": [
    {
     "data": {
      "image/png": "[encoded data removed]",
      "text/plain": [
       "<Figure size 640x480 with 1 Axes>"
      ]
     },
     "metadata": {},
     "output_type": "display_data"
    }
   ],
   "source": [
    "import numpy as np  \n",
    "import matplotlib.pyplot as plt  \n",
    "arr = [2, 2.2, 2.4, 2.6,2.8, 3]  \n",
    "result1=np.log(arr)  \n",
    "result2=np.log2(arr)  \n",
    "result3=np.log10(arr)  \n",
    "plt.plot(arr,arr, color='blue', marker=\"o\")  \n",
    "\n",
    "plt.show()  "
   ]
  },
  {
   "cell_type": "code",
   "execution_count": 16,
   "id": "23bf7224",
   "metadata": {},
   "outputs": [
    {
     "data": {
      "image/png": "[encoded data removed]",
      "text/plain": [
       "<Figure size 640x480 with 1 Axes>"
      ]
     },
     "metadata": {},
     "output_type": "display_data"
    }
   ],
   "source": [
    "plt.plot(arr,arr, color='green', marker=\"*\")  \n",
    "\n",
    "plt.show()  "
   ]
  },
  {
   "cell_type": "code",
   "execution_count": 17,
   "id": "c4b6400f",
   "metadata": {},
   "outputs": [
    {
     "data": {
      "image/png": "[encoded data removed]",
      "text/plain": [
       "<Figure size 640x480 with 1 Axes>"
      ]
     },
     "metadata": {},
     "output_type": "display_data"
    }
   ],
   "source": [
    "plt.plot(arr,arr, color='red', marker=\"o\")  \n",
    "\n",
    "plt.show()  "
   ]
  },
  {
   "cell_type": "markdown",
   "id": "c17026c7",
   "metadata": {},
   "source": [
    "# where  "
   ]
  },
  {
   "cell_type": "code",
   "execution_count": 35,
   "id": "0b6b85db",
   "metadata": {},
   "outputs": [
    {
     "data": {
      "text/plain": [
       "array([ 0,  1,  2,  3,  4, 25, 30, 35])"
      ]
     },
     "execution_count": 35,
     "metadata": {},
     "output_type": "execute_result"
    }
   ],
   "source": [
    "a=np.arange(8)  \n",
    "b=np.where(a<5,a,5*a)  # conditon true hole 1st value print hobe and false hole second value print\n",
    "b  "
   ]
  },
  {
   "cell_type": "code",
   "execution_count": 24,
   "id": "b010d8fe",
   "metadata": {},
   "outputs": [],
   "source": [
    "b=np.where(a>5,a,5*a)  "
   ]
  },
  {
   "cell_type": "code",
   "execution_count": 25,
   "id": "2b16ec4f",
   "metadata": {},
   "outputs": [
    {
     "data": {
      "text/plain": [
       "array([ 0,  5, 10, 15, 20, 25,  6,  7])"
      ]
     },
     "execution_count": 25,
     "metadata": {},
     "output_type": "execute_result"
    }
   ],
   "source": [
    "b"
   ]
  },
  {
   "cell_type": "markdown",
   "id": "0554efe4",
   "metadata": {},
   "source": [
    "# Argsort"
   ]
  },
  {
   "cell_type": "code",
   "execution_count": 26,
   "id": "8eef0d98",
   "metadata": {},
   "outputs": [
    {
     "data": {
      "text/plain": [
       "array([0, 1, 2, 3, 4, 5, 6, 7], dtype=int64)"
      ]
     },
     "execution_count": 26,
     "metadata": {},
     "output_type": "execute_result"
    }
   ],
   "source": [
    "b=np.argsort(a)  \n",
    "b  "
   ]
  },
  {
   "cell_type": "code",
   "execution_count": 29,
   "id": "744c4d22",
   "metadata": {},
   "outputs": [],
   "source": [
    "a=np.array([6, 2, 4])   "
   ]
  },
  {
   "cell_type": "code",
   "execution_count": 30,
   "id": "a5686367",
   "metadata": {},
   "outputs": [
    {
     "data": {
      "text/plain": [
       "array([1, 2, 0], dtype=int64)"
      ]
     },
     "execution_count": 30,
     "metadata": {},
     "output_type": "execute_result"
    }
   ],
   "source": [
    "b=np.argsort(a)  \n",
    "b  "
   ]
  },
  {
   "cell_type": "code",
   "execution_count": 33,
   "id": "e2195588",
   "metadata": {},
   "outputs": [
    {
     "data": {
      "text/plain": [
       "array([1, 2, 0], dtype=int64)"
      ]
     },
     "execution_count": 33,
     "metadata": {},
     "output_type": "execute_result"
    }
   ],
   "source": [
    "np.argsort([8,4,5])"
   ]
  },
  {
   "cell_type": "code",
   "execution_count": 34,
   "id": "c6598c16",
   "metadata": {},
   "outputs": [
    {
     "data": {
      "text/plain": [
       "array([[0, 1],\n",
       "       [1, 0]], dtype=int64)"
      ]
     },
     "execution_count": 34,
     "metadata": {},
     "output_type": "execute_result"
    }
   ],
   "source": [
    "a = np.array([[0, 5], [3, 2]])  \n",
    "indices = np.argsort(a, axis=0)    \n",
    "indices   "
   ]
  },
  {
   "cell_type": "markdown",
   "id": "850ccb81",
   "metadata": {},
   "source": [
    "### numpy.transpose()"
   ]
  },
  {
   "cell_type": "code",
   "execution_count": 37,
   "id": "f5df5595",
   "metadata": {},
   "outputs": [
    {
     "data": {
      "text/plain": [
       "array([[0, 3],\n",
       "       [1, 4],\n",
       "       [2, 5]])"
      ]
     },
     "execution_count": 37,
     "metadata": {},
     "output_type": "execute_result"
    }
   ],
   "source": [
    "a= np.arange(6).reshape((2,3))  \n",
    "a  \n",
    "b=np.transpose(a)  \n",
    "b  "
   ]
  },
  {
   "cell_type": "markdown",
   "id": "dd33cf9c",
   "metadata": {},
   "source": [
    "### mean"
   ]
  },
  {
   "cell_type": "code",
   "execution_count": 38,
   "id": "65d1600f",
   "metadata": {},
   "outputs": [],
   "source": [
    "a = np.array([[2, 4], [3, 5]])  \n",
    "b=np.mean(a,axis=0)  "
   ]
  },
  {
   "cell_type": "code",
   "execution_count": 39,
   "id": "86590b30",
   "metadata": {},
   "outputs": [
    {
     "data": {
      "text/plain": [
       "array([2.5, 4.5])"
      ]
     },
     "execution_count": 39,
     "metadata": {},
     "output_type": "execute_result"
    }
   ],
   "source": [
    "b"
   ]
  },
  {
   "cell_type": "code",
   "execution_count": 40,
   "id": "57e4c87d",
   "metadata": {},
   "outputs": [],
   "source": [
    "a = np.array([[1, 2], [3, 4]])  \n",
    "b=np.mean(a)  "
   ]
  },
  {
   "cell_type": "code",
   "execution_count": 41,
   "id": "0ccd785c",
   "metadata": {},
   "outputs": [
    {
     "data": {
      "text/plain": [
       "2.5"
      ]
     },
     "execution_count": 41,
     "metadata": {},
     "output_type": "execute_result"
    }
   ],
   "source": [
    "b"
   ]
  },
  {
   "cell_type": "code",
   "execution_count": 44,
   "id": "d707fdd0",
   "metadata": {},
   "outputs": [],
   "source": [
    "b=np.mean(a,axis=1)"
   ]
  },
  {
   "cell_type": "code",
   "execution_count": 45,
   "id": "135dc5c1",
   "metadata": {},
   "outputs": [
    {
     "data": {
      "text/plain": [
       "array([1.5, 3.5])"
      ]
     },
     "execution_count": 45,
     "metadata": {},
     "output_type": "execute_result"
    }
   ],
   "source": [
    "b"
   ]
  },
  {
   "cell_type": "markdown",
   "id": "466e1e70",
   "metadata": {},
   "source": [
    "### unique "
   ]
  },
  {
   "cell_type": "code",
   "execution_count": 46,
   "id": "728cd9dd",
   "metadata": {},
   "outputs": [
    {
     "data": {
      "text/plain": [
       "array([1, 2, 3, 4, 6])"
      ]
     },
     "execution_count": 46,
     "metadata": {},
     "output_type": "execute_result"
    }
   ],
   "source": [
    "a=np.unique([1,2,3,4,3,6,2,4])  \n",
    "a "
   ]
  },
  {
   "cell_type": "code",
   "execution_count": 53,
   "id": "6e6afef0",
   "metadata": {},
   "outputs": [],
   "source": [
    "a = np.array([[1, 1, 0], [1, 1, 0], [2, 3, 4],[5, 9, 8],[2, 3, 4]])  \n",
    "b=np.unique(a, axis=0)  "
   ]
  },
  {
   "cell_type": "code",
   "execution_count": 54,
   "id": "6ed80fc6",
   "metadata": {},
   "outputs": [
    {
     "data": {
      "text/plain": [
       "array([[1, 1, 0],\n",
       "       [2, 3, 4],\n",
       "       [5, 9, 8]])"
      ]
     },
     "execution_count": 54,
     "metadata": {},
     "output_type": "execute_result"
    }
   ],
   "source": [
    "b"
   ]
  },
  {
   "cell_type": "code",
   "execution_count": 55,
   "id": "18bb26d6",
   "metadata": {},
   "outputs": [
    {
     "data": {
      "text/plain": [
       "[[11, 21], [31, 41]]"
      ]
     },
     "execution_count": 55,
     "metadata": {},
     "output_type": "execute_result"
    }
   ],
   "source": [
    "a = np.array([[11, 21], [31, 41]])  \n",
    "b=a.tolist()    \n",
    "b "
   ]
  },
  {
   "cell_type": "markdown",
   "id": "84bf1d74",
   "metadata": {},
   "source": [
    "### numpy.dot()"
   ]
  },
  {
   "cell_type": "code",
   "execution_count": 57,
   "id": "beec0c22",
   "metadata": {},
   "outputs": [
    {
     "data": {
      "text/plain": [
       "array([[ 8, 17],\n",
       "       [18, 47]])"
      ]
     },
     "execution_count": 57,
     "metadata": {},
     "output_type": "execute_result"
    }
   ],
   "source": [
    "a = [[1, 2], [4, 1]]  \n",
    "b = [[4, 11], [2, 3]]  \n",
    "c=np.dot(a, b)  # matrix multiplication er moto kaj kore\n",
    "c  "
   ]
  },
  {
   "cell_type": "markdown",
   "id": "576e47e5",
   "metadata": {},
   "source": [
    "### numpy.clip()"
   ]
  },
  {
   "cell_type": "code",
   "execution_count": 60,
   "id": "357bb230",
   "metadata": {},
   "outputs": [
    {
     "data": {
      "text/plain": [
       "array([ 3,  3,  3,  3,  4,  5,  6,  7,  8,  9, 10, 10, 10, 10, 10, 10, 10,\n",
       "       10, 10, 10, 10, 10, 10, 10, 10])"
      ]
     },
     "execution_count": 60,
     "metadata": {},
     "output_type": "execute_result"
    }
   ],
   "source": [
    "x= np.arange(25)  \n",
    "y=np.clip(x, 3, 10)  #The values less than 3 in x are replaced with the minimum value, which is 3.and greater 10 replaced by 10\n",
    "y  "
   ]
  },
  {
   "cell_type": "markdown",
   "id": "b12169ef",
   "metadata": {},
   "source": [
    "### flatten "
   ]
  },
  {
   "cell_type": "code",
   "execution_count": 65,
   "id": "60c89ea3",
   "metadata": {},
   "outputs": [
    {
     "data": {
      "text/plain": [
       "array([1, 2, 3, 4, 5, 6, 7, 9, 9])"
      ]
     },
     "execution_count": 65,
     "metadata": {},
     "output_type": "execute_result"
    }
   ],
   "source": [
    "a = np.array([[1,4,7], [2,5,9],[3,6,9]])  \n",
    "b=a.flatten('F')  \n",
    "b "
   ]
  },
  {
   "cell_type": "markdown",
   "id": "b7cf2589",
   "metadata": {},
   "source": [
    "### standard deviation"
   ]
  },
  {
   "cell_type": "code",
   "execution_count": 67,
   "id": "8cdd65a7",
   "metadata": {},
   "outputs": [],
   "source": [
    "a=np.array([[1,4,7,10],[2,5,8,11]])  \n",
    "b=np.std(a) "
   ]
  },
  {
   "cell_type": "code",
   "execution_count": 68,
   "id": "d8cd7a45",
   "metadata": {},
   "outputs": [
    {
     "data": {
      "text/plain": [
       "3.391164991562634"
      ]
     },
     "execution_count": 68,
     "metadata": {},
     "output_type": "execute_result"
    }
   ],
   "source": [
    "b"
   ]
  },
  {
   "cell_type": "code",
   "execution_count": 9,
   "id": "4c8bcd1b",
   "metadata": {},
   "outputs": [
    {
     "data": {
      "text/plain": [
       "array([[ 3,  4,  5,  6,  7],\n",
       "       [ 8,  9, 10, 11, 12],\n",
       "       [13, 14, 15, 16, 17],\n",
       "       [18, 19, 20, 21, 22]])"
      ]
     },
     "execution_count": 9,
     "metadata": {},
     "output_type": "execute_result"
    }
   ],
   "source": [
    "x = np.arange(20).reshape(4,5) + 3\n",
    "x"
   ]
  },
  {
   "cell_type": "code",
   "execution_count": 10,
   "id": "739647a0",
   "metadata": {},
   "outputs": [
    {
     "data": {
      "text/plain": [
       "19"
      ]
     },
     "execution_count": 10,
     "metadata": {},
     "output_type": "execute_result"
    }
   ],
   "source": [
    "y=np.argmax(x)\n",
    "y"
   ]
  },
  {
   "cell_type": "markdown",
   "id": "006da981",
   "metadata": {},
   "source": [
    "### diff  \n"
   ]
  },
  {
   "cell_type": "code",
   "execution_count": 13,
   "id": "a3ab72fe",
   "metadata": {},
   "outputs": [
    {
     "data": {
      "text/plain": [
       "array([ 10,  20,  30, -70,  11,  21, -31])"
      ]
     },
     "execution_count": 13,
     "metadata": {},
     "output_type": "execute_result"
    }
   ],
   "source": [
    "x = np.array([11, 21, 41, 71, 1, 12, 33, 2])  \n",
    "y = np.diff(x) # see to defferent for two numbers as well as\n",
    "y"
   ]
  },
  {
   "cell_type": "code",
   "execution_count": 18,
   "id": "fba6f86a",
   "metadata": {},
   "outputs": [
    {
     "data": {
      "text/plain": [
       "array([[ 60, -20, -29],\n",
       "       [-38,   1,   1]])"
      ]
     },
     "execution_count": 18,
     "metadata": {},
     "output_type": "execute_result"
    }
   ],
   "source": [
    "x = np.array([[11, 21, 41], [71, 1, 12], [33, 2, 13]])  \n",
    "y = np.diff(x, axis=0)  # difference between column wise\n",
    "y"
   ]
  },
  {
   "cell_type": "markdown",
   "id": "8b6da0d4",
   "metadata": {},
   "source": [
    "# numpy.sort"
   ]
  },
  {
   "cell_type": "code",
   "execution_count": 26,
   "id": "b2d5551a",
   "metadata": {},
   "outputs": [
    {
     "data": {
      "text/plain": [
       "array([[ 1,  2,  3,  4],\n",
       "       [ 9, 13, 22, 61],\n",
       "       [ 2, 24, 43, 88]])"
      ]
     },
     "execution_count": 26,
     "metadata": {},
     "output_type": "execute_result"
    }
   ],
   "source": [
    "x=np.array([[1,4,2,3],[9,13,61,22],[43,24,88,2]])  \n",
    "y=np.sort(x)  \n",
    "y  "
   ]
  },
  {
   "cell_type": "code",
   "execution_count": 27,
   "id": "8321b2b7",
   "metadata": {},
   "outputs": [],
   "source": [
    "y=np.sort(x,axis=0)  "
   ]
  },
  {
   "cell_type": "code",
   "execution_count": 28,
   "id": "f287380e",
   "metadata": {},
   "outputs": [
    {
     "data": {
      "text/plain": [
       "array([[ 1,  4,  2,  2],\n",
       "       [ 9, 13, 61,  3],\n",
       "       [43, 24, 88, 22]])"
      ]
     },
     "execution_count": 28,
     "metadata": {},
     "output_type": "execute_result"
    }
   ],
   "source": [
    "y"
   ]
  },
  {
   "cell_type": "code",
   "execution_count": 29,
   "id": "1956e820",
   "metadata": {},
   "outputs": [],
   "source": [
    "y=np.sort(x,axis=1)  "
   ]
  },
  {
   "cell_type": "code",
   "execution_count": 30,
   "id": "e238e5b8",
   "metadata": {},
   "outputs": [
    {
     "data": {
      "text/plain": [
       "array([[ 1,  2,  3,  4],\n",
       "       [ 9, 13, 22, 61],\n",
       "       [ 2, 24, 43, 88]])"
      ]
     },
     "execution_count": 30,
     "metadata": {},
     "output_type": "execute_result"
    }
   ],
   "source": [
    "y"
   ]
  },
  {
   "cell_type": "markdown",
   "id": "57ff3de2",
   "metadata": {},
   "source": [
    "### pad()"
   ]
  },
  {
   "cell_type": "code",
   "execution_count": 33,
   "id": "8dd8f59a",
   "metadata": {},
   "outputs": [
    {
     "data": {
      "text/plain": [
       "array([9, 9, 9, 9, 9, 1, 3, 2, 5, 4, 8, 8])"
      ]
     },
     "execution_count": 33,
     "metadata": {},
     "output_type": "execute_result"
    }
   ],
   "source": [
    "x = [1, 3, 2, 5, 4]  \n",
    "y = np.pad(x, (5, 2), 'constant', constant_values=(9, 8))  \n",
    "y  "
   ]
  },
  {
   "cell_type": "code",
   "execution_count": 34,
   "id": "43178ee5",
   "metadata": {},
   "outputs": [
    {
     "data": {
      "text/plain": [
       "array([1, 1, 1, 1, 3, 2, 5, 4, 4, 4])"
      ]
     },
     "execution_count": 34,
     "metadata": {},
     "output_type": "execute_result"
    }
   ],
   "source": [
    "y = np.pad(x, (3, 2), 'edge')  #repeat first and last number \n",
    "y  "
   ]
  },
  {
   "cell_type": "code",
   "execution_count": 35,
   "id": "e0ec3610",
   "metadata": {},
   "outputs": [
    {
     "data": {
      "text/plain": [
       "array([5, 5, 5, 1, 3, 2, 5, 4, 5, 5, 5])"
      ]
     },
     "execution_count": 35,
     "metadata": {},
     "output_type": "execute_result"
    }
   ],
   "source": [
    "y = np.pad(x, (3,), 'maximum')  \n",
    "y  "
   ]
  },
  {
   "cell_type": "code",
   "execution_count": null,
   "id": "bc9595c1",
   "metadata": {},
   "outputs": [],
   "source": []
  },
  {
   "cell_type": "code",
   "execution_count": 39,
   "id": "d256e1da",
   "metadata": {},
   "outputs": [
    {
     "data": {
      "text/plain": [
       "array([3, 3, 3, 1, 3, 2, 7, 4, 3, 3, 3])"
      ]
     },
     "execution_count": 39,
     "metadata": {},
     "output_type": "execute_result"
    }
   ],
   "source": [
    "x = [1, 3, 2, 7, 4]\n",
    "y = np.pad(x, (3,), 'mean')  \n",
    "y  "
   ]
  },
  {
   "cell_type": "code",
   "execution_count": 40,
   "id": "769769ff",
   "metadata": {},
   "outputs": [
    {
     "data": {
      "text/plain": [
       "array([3, 3, 3, 1, 3, 2, 7, 4, 3, 3, 3])"
      ]
     },
     "execution_count": 40,
     "metadata": {},
     "output_type": "execute_result"
    }
   ],
   "source": [
    "y = np.pad(x, (3,), 'median')  \n",
    "y "
   ]
  },
  {
   "cell_type": "code",
   "execution_count": 42,
   "id": "8ba65284",
   "metadata": {},
   "outputs": [
    {
     "data": {
      "text/plain": [
       "array([1, 1, 1, 1, 3, 2, 7, 4, 1, 1, 1])"
      ]
     },
     "execution_count": 42,
     "metadata": {},
     "output_type": "execute_result"
    }
   ],
   "source": [
    "y = np.pad(x, (3,), 'minimum')  \n",
    "y "
   ]
  },
  {
   "cell_type": "markdown",
   "id": "ed50d6c0",
   "metadata": {},
   "source": [
    "### numpy.ravel()"
   ]
  },
  {
   "cell_type": "code",
   "execution_count": 44,
   "id": "58e911de",
   "metadata": {},
   "outputs": [
    {
     "data": {
      "text/plain": [
       "array([ 1,  3,  5, 11, 35, 56])"
      ]
     },
     "execution_count": 44,
     "metadata": {},
     "output_type": "execute_result"
    }
   ],
   "source": [
    "x = np.array([[1, 3, 5], [11, 35, 56]])  \n",
    "y=np.ravel(x)  \n",
    "y "
   ]
  },
  {
   "cell_type": "code",
   "execution_count": 45,
   "id": "de3552dc",
   "metadata": {},
   "outputs": [
    {
     "data": {
      "text/plain": [
       "array([ 1, 11,  3, 35,  5, 56])"
      ]
     },
     "execution_count": 45,
     "metadata": {},
     "output_type": "execute_result"
    }
   ],
   "source": [
    "x = np.array([[1, 3, 5], [11, 35, 56]])  \n",
    "y = np.ravel(x, order='F')  \n",
    "y"
   ]
  },
  {
   "cell_type": "markdown",
   "id": "ec3f62dd",
   "metadata": {},
   "source": [
    "### Numpy arccos(),arctan,arcsin"
   ]
  },
  {
   "cell_type": "code",
   "execution_count": 49,
   "id": "16b2e8b6",
   "metadata": {},
   "outputs": [
    {
     "name": "stdout",
     "output_type": "stream",
     "text": [
      "Input array : \n",
      " [0, 0.3, -1]\n",
      "\n",
      "Inverse cos values : \n",
      " [1.57079633 1.26610367 3.14159265]\n"
     ]
    }
   ],
   "source": [
    "arr = [0, 0.3, -1]   \n",
    "print (\"Input array : \\n\", arr)   \n",
    "  \n",
    "arccos_val = np.arccos(arr)   \n",
    "print (\"\\nInverse cos values : \\n\", arccos_val) # output value is radian mode  "
   ]
  },
  {
   "cell_type": "markdown",
   "id": "a33f8db2",
   "metadata": {},
   "source": [
    "### Numpy degrees() method "
   ]
  },
  {
   "cell_type": "code",
   "execution_count": 52,
   "id": "9832e074",
   "metadata": {},
   "outputs": [
    {
     "name": "stdout",
     "output_type": "stream",
     "text": [
      "Input array : \n",
      " [0, 1.5707963267948966, 0.7853981633974483, 0.5235987755982988]\n",
      "\n",
      " Degree value : \n",
      " [ 0. 90. 45. 30.]\n"
     ]
    }
   ],
   "source": [
    "import math  \n",
    "  \n",
    "arr = [0, math.pi/2, math.pi/4, math.pi/6 ]   #pi/4 mens 45 degree \n",
    "print (\"Input array : \\n\", arr)   \n",
    "  \n",
    "degval = np.degrees(arr) # convert radian to degree\n",
    "print (\"\\n Degree value : \\n\", degval)   "
   ]
  },
  {
   "cell_type": "markdown",
   "id": "31999b29",
   "metadata": {},
   "source": [
    "### Numpy deg2rad()"
   ]
  },
  {
   "cell_type": "code",
   "execution_count": 54,
   "id": "3cff14db",
   "metadata": {},
   "outputs": [
    {
     "name": "stdout",
     "output_type": "stream",
     "text": [
      "\n",
      " Radian value : \n",
      " [0.         0.02741557 0.01370778 0.00913852]\n"
     ]
    }
   ],
   "source": [
    "import math  \n",
    "  \n",
    "arr = [0, math.pi/2, math.pi/4, math.pi/6 ]   \n",
    "  \n",
    "radval = np.deg2rad(arr)   \n",
    "print (\"\\n Radian value : \\n\", radval)   "
   ]
  },
  {
   "cell_type": "markdown",
   "id": "d7b2eb68",
   "metadata": {},
   "source": [
    "### Numpy hypot()"
   ]
  },
  {
   "cell_type": "code",
   "execution_count": 58,
   "id": "ec7462a3",
   "metadata": {},
   "outputs": [
    {
     "name": "stdout",
     "output_type": "stream",
     "text": [
      "Input base array: [6, 12, 5, 50]\n",
      "Input perpendicular array: [8, 13, 23, 6]\n",
      "hypotenuse  [10.         17.69180601 23.53720459 50.35871325]\n"
     ]
    }
   ],
   "source": [
    "base = [6,12,5,50]  \n",
    "per= [8,13,23,6]  \n",
    "  \n",
    "print(\"Input base array:\",base)  \n",
    "print(\"Input perpendicular array:\",per)  \n",
    "  \n",
    "hyp = np.hypot(base,per)  #it use to determine hypotenuse of the given right angled triangle \n",
    "  \n",
    "print(\"hypotenuse \",hyp)  # sqrt(6**2+8**2)"
   ]
  },
  {
   "cell_type": "markdown",
   "id": "41c08460",
   "metadata": {},
   "source": [
    "### Numpy ceil()"
   ]
  },
  {
   "cell_type": "code",
   "execution_count": 60,
   "id": "03117767",
   "metadata": {},
   "outputs": [
    {
     "name": "stdout",
     "output_type": "stream",
     "text": [
      "Output array: [ 1.  1.  2.  2. 10.]\n"
     ]
    }
   ],
   "source": [
    "  \n",
    "arr = [0.23, 0.09, 1.2, 1.24, 9.99]  \n",
    "  \n",
    "r_arr = np.ceil(arr)  \n",
    "  \n",
    "print(\"Output array:\",r_arr)  #return ceiling value"
   ]
  },
  {
   "cell_type": "markdown",
   "id": "1f1845ad",
   "metadata": {},
   "source": [
    "### Numpy fix() "
   ]
  },
  {
   "cell_type": "code",
   "execution_count": 62,
   "id": "7b7fb44f",
   "metadata": {},
   "outputs": [
    {
     "data": {
      "text/plain": [
       "array([0., 0., 1., 1., 9.])"
      ]
     },
     "execution_count": 62,
     "metadata": {},
     "output_type": "execute_result"
    }
   ],
   "source": [
    " # used to round the array values to the nearest integers towards zero\n",
    " arr = [0.23, 0.09, 1.2, 1.24, 9.99]   \n",
    "r = np.fix(arr)  \n",
    "r   "
   ]
  },
  {
   "cell_type": "markdown",
   "id": "2e574ea2",
   "metadata": {},
   "source": [
    "### Numpy floor()"
   ]
  },
  {
   "cell_type": "code",
   "execution_count": 63,
   "id": "d48ae38c",
   "metadata": {},
   "outputs": [
    {
     "name": "stdout",
     "output_type": "stream",
     "text": [
      "Output array: [0. 0. 1. 1. 9.]\n"
     ]
    }
   ],
   "source": [
    "arr = [0.23, 0.09, 1.2, 1.24, 9.99]  \n",
    "  \n",
    "r_arr = np.floor(arr)  \n",
    "  \n",
    "print(\"Output array:\",r_arr)  \n",
    "  "
   ]
  },
  {
   "cell_type": "markdown",
   "id": "e574769b",
   "metadata": {},
   "source": [
    "### Numpy rint()"
   ]
  },
  {
   "cell_type": "code",
   "execution_count": 66,
   "id": "4ebf6d86",
   "metadata": {},
   "outputs": [
    {
     "name": "stdout",
     "output_type": "stream",
     "text": [
      "Output array: [ 0.  0.  1.  2. 10.]\n"
     ]
    }
   ],
   "source": [
    "arr = [0.23, 0.09, 1.2, 1.65, 9.99]  \n",
    "  \n",
    "r_arr = np.rint(arr)  #used to round the array elements to the nearest integer.\n",
    "  \n",
    "print(\"Output array:\",r_arr)  "
   ]
  },
  {
   "cell_type": "markdown",
   "id": "f86bb5a0",
   "metadata": {},
   "source": [
    "### Numpy tanh()"
   ]
  },
  {
   "cell_type": "code",
   "execution_count": 67,
   "id": "b9cb049c",
   "metadata": {},
   "outputs": [
    {
     "name": "stdout",
     "output_type": "stream",
     "text": [
      "Input Array: [0.         0.78539816 4.71238898 0.52359878]\n",
      "tanh Array: [0.         0.6557942  0.99983861 0.48047278]\n"
     ]
    }
   ],
   "source": [
    "import math  \n",
    "arr = np.array([0, math.pi/4, 3*math.pi/2, math.pi/6])  \n",
    "print(\"Input Array:\",arr)  \n",
    "print(\"tanh Array:\",end=\" \")  \n",
    "tanharr = np.tanh(arr)  \n",
    "print(tanharr) "
   ]
  },
  {
   "cell_type": "code",
   "execution_count": null,
   "id": "5a019f46",
   "metadata": {},
   "outputs": [],
   "source": []
  }
 ],
 "metadata": {
  "kernelspec": {
   "display_name": "Python 3 (ipykernel)",
   "language": "python",
   "name": "python3"
  },
  "language_info": {
   "codemirror_mode": {
    "name": "ipython",
    "version": 3
   },
   "file_extension": ".py",
   "mimetype": "text/x-python",
   "name": "python",
   "nbconvert_exporter": "python",
   "pygments_lexer": "ipython3",
   "version": "3.11.4"
  }
 },
 "nbformat": 4,
 "nbformat_minor": 5
}
