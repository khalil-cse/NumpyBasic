{
 "cells": [
  {
   "cell_type": "markdown",
   "id": "c91ddd1f",
   "metadata": {},
   "source": [
    "### NumPy flip()"
   ]
  },
  {
   "cell_type": "code",
   "execution_count": 2,
   "id": "c2a85e35",
   "metadata": {},
   "outputs": [],
   "source": [
    "import numpy as np"
   ]
  },
  {
   "cell_type": "code",
   "execution_count": 3,
   "id": "59b33590",
   "metadata": {},
   "outputs": [
    {
     "data": {
      "text/plain": [
       "array([10,  8,  6,  4,  2])"
      ]
     },
     "execution_count": 3,
     "metadata": {},
     "output_type": "execute_result"
    }
   ],
   "source": [
    "arr = np.array([2, 4, 6, 8, 10])\n",
    "arr2 = np.flip(arr)\n",
    "arr2"
   ]
  },
  {
   "cell_type": "code",
   "execution_count": 5,
   "id": "2d826544",
   "metadata": {},
   "outputs": [
    {
     "data": {
      "text/plain": [
       "array([[9, 8, 7],\n",
       "       [6, 5, 4],\n",
       "       [3, 2, 1]])"
      ]
     },
     "execution_count": 5,
     "metadata": {},
     "output_type": "execute_result"
    }
   ],
   "source": [
    "# Example 2: Use numpy flip() function with 2-d arrays\n",
    "arr = np.array([[1,2,3],[4,5,6],[7,8,9]])\n",
    "arr2 = np.flip(arr)\n",
    "arr2"
   ]
  },
  {
   "cell_type": "code",
   "execution_count": 6,
   "id": "c2b847b6",
   "metadata": {},
   "outputs": [
    {
     "name": "stdout",
     "output_type": "stream",
     "text": [
      "[[3 2 1]\n",
      " [6 5 4]\n",
      " [9 8 7]]\n"
     ]
    }
   ],
   "source": [
    "arr2 = np.flip(arr, axis=1)\n",
    "print(arr2)"
   ]
  },
  {
   "cell_type": "code",
   "execution_count": 7,
   "id": "23979a71",
   "metadata": {},
   "outputs": [
    {
     "name": "stdout",
     "output_type": "stream",
     "text": [
      "[[7 8 9]\n",
      " [4 5 6]\n",
      " [1 2 3]]\n"
     ]
    }
   ],
   "source": [
    "# Use numpy flip() with axis=0\n",
    "arr2 = np.flip(arr, axis=0)\n",
    "print(arr2)"
   ]
  },
  {
   "cell_type": "markdown",
   "id": "151b1f9c",
   "metadata": {},
   "source": [
    "### slicing with flip()"
   ]
  },
  {
   "cell_type": "code",
   "execution_count": 8,
   "id": "b658c476",
   "metadata": {},
   "outputs": [
    {
     "name": "stdout",
     "output_type": "stream",
     "text": [
      "[8 5 2]\n"
     ]
    }
   ],
   "source": [
    "# Use slicing with flip() \n",
    "arr2 = np.flip(arr[:,1])\n",
    "print(arr2)"
   ]
  },
  {
   "cell_type": "code",
   "execution_count": 9,
   "id": "7ba2fee3",
   "metadata": {},
   "outputs": [
    {
     "name": "stdout",
     "output_type": "stream",
     "text": [
      "0.888308049730009\n"
     ]
    }
   ],
   "source": [
    "# Get the single uniform random sample\n",
    "arr = np.random.uniform()\n",
    "print(arr)"
   ]
  },
  {
   "cell_type": "code",
   "execution_count": 10,
   "id": "04689975",
   "metadata": {},
   "outputs": [
    {
     "name": "stdout",
     "output_type": "stream",
     "text": [
      "[0.3169651  0.70469042 0.24157592 0.63791647 0.8967686 ]\n"
     ]
    }
   ],
   "source": [
    "# Get the uniform samples of an array\n",
    "arr = np.random.uniform(size = 5)\n",
    "print(arr)"
   ]
  },
  {
   "cell_type": "code",
   "execution_count": 16,
   "id": "c6e63fee",
   "metadata": {},
   "outputs": [
    {
     "name": "stdout",
     "output_type": "stream",
     "text": [
      "[3.76571493 3.98503397 4.92127682 3.09863576]\n"
     ]
    }
   ],
   "source": [
    "# Get the uniform random samples\n",
    "arr = np.random.uniform(low = 3, high = 5, size = 4)\n",
    "print(arr)"
   ]
  },
  {
   "cell_type": "code",
   "execution_count": 18,
   "id": "f3387032",
   "metadata": {},
   "outputs": [
    {
     "name": "stdout",
     "output_type": "stream",
     "text": [
      "[8 8 8 4 7 2 4 3 0 0]\n"
     ]
    }
   ],
   "source": [
    "arr = np.array([4, 7, 2, 4, 3])\n",
    "  \n",
    "# Padding array using Constant mode\n",
    "arr1 = np.pad(arr, (3, 2), 'constant', constant_values=(8,0))                 \n",
    "print(arr1)\n"
   ]
  },
  {
   "cell_type": "code",
   "execution_count": 19,
   "id": "74d64620",
   "metadata": {},
   "outputs": [
    {
     "name": "stdout",
     "output_type": "stream",
     "text": [
      "[4 4 4 7 2 4 3 3 3 3]\n"
     ]
    }
   ],
   "source": [
    "arr2 = np.pad(arr, (2, 3), 'edge')\n",
    "print(arr2)\n"
   ]
  },
  {
   "cell_type": "code",
   "execution_count": 21,
   "id": "25c2a76b",
   "metadata": {},
   "outputs": [
    {
     "data": {
      "text/plain": [
       "6"
      ]
     },
     "execution_count": 21,
     "metadata": {},
     "output_type": "execute_result"
    }
   ],
   "source": [
    "# Example 1: Index with the largest value\n",
    "arr = np.array([4,7,2,9,12,16,19])\n",
    "arr2 = np.argmax(arr)\n",
    "arr2"
   ]
  },
  {
   "cell_type": "code",
   "execution_count": null,
   "id": "718cc03b",
   "metadata": {},
   "outputs": [],
   "source": []
  }
 ],
 "metadata": {
  "kernelspec": {
   "display_name": "Python 3 (ipykernel)",
   "language": "python",
   "name": "python3"
  },
  "language_info": {
   "codemirror_mode": {
    "name": "ipython",
    "version": 3
   },
   "file_extension": ".py",
   "mimetype": "text/x-python",
   "name": "python",
   "nbconvert_exporter": "python",
   "pygments_lexer": "ipython3",
   "version": "3.11.4"
  }
 },
 "nbformat": 4,
 "nbformat_minor": 5
}
