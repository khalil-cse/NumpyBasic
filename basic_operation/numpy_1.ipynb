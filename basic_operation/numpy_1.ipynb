{
 "cells": [
  {
   "cell_type": "code",
   "execution_count": 2,
   "id": "932caae2",
   "metadata": {},
   "outputs": [],
   "source": [
    "import numpy as np"
   ]
  },
  {
   "cell_type": "markdown",
   "id": "d415ad0c",
   "metadata": {},
   "source": [
    "# Get shape and size of array"
   ]
  },
  {
   "cell_type": "code",
   "execution_count": 4,
   "id": "22b0e011",
   "metadata": {},
   "outputs": [
    {
     "name": "stdout",
     "output_type": "stream",
     "text": [
      "Array Size: 8\n",
      "Shape: (2, 4)\n"
     ]
    }
   ],
   "source": [
    "# Get shape and size of array\n",
    "array = np.array([[10,20,30,40],[60,70,80,90]])  \n",
    "print(\"Array Size:\", array.size)  \n",
    "print(\"Shape:\", array.shape)\n"
   ]
  },
  {
   "cell_type": "markdown",
   "id": "47fbb261",
   "metadata": {},
   "source": [
    "### ndarray.ndim "
   ]
  },
  {
   "cell_type": "code",
   "execution_count": 5,
   "id": "b15dddd8",
   "metadata": {},
   "outputs": [
    {
     "name": "stdout",
     "output_type": "stream",
     "text": [
      "2\n"
     ]
    }
   ],
   "source": [
    "# Usage of ndim\n",
    "array = np.array([[1, 2, 3, 4], \n",
    "                  [7, 8, 6, 7], \n",
    "                  [9, 10, 11, 12]])  \n",
    "print(array.ndim) "
   ]
  },
  {
   "cell_type": "code",
   "execution_count": 8,
   "id": "ab45683f",
   "metadata": {},
   "outputs": [
    {
     "name": "stdout",
     "output_type": "stream",
     "text": [
      "Applying mod() function: [0 0 1]\n",
      "Applying remainder() function: [0 0 1]\n"
     ]
    }
   ],
   "source": [
    "\n",
    "# To perform mod function\n",
    "# on NumPy array\n",
    "import numpy as np\n",
    "arr1 = np.array([9, 20, 13])\n",
    "arr2 = np.array([3, 5, 2])\n",
    "\n",
    "# mod()\n",
    "mod_arr = np.mod(arr1, arr2)\n",
    "print(\"Applying mod() function:\",mod_arr)\n",
    "# Applying mod() function: [1 0 1]\n",
    "\n",
    "# remainder()\n",
    "mod_arr = np.remainder(arr1, arr2)\n",
    "print(\"Applying remainder() function:\",mod_arr)"
   ]
  },
  {
   "cell_type": "code",
   "execution_count": 10,
   "id": "3c0d4d86",
   "metadata": {},
   "outputs": [
    {
     "name": "stdout",
     "output_type": "stream",
     "text": [
      "[15 12  8  6  5  3  1]\n"
     ]
    }
   ],
   "source": [
    "# Create NumPy array\n",
    "array = np.array([5,8,6,12,3,15,1])\n",
    "\n",
    "# To get a sorted array(ascending order)\n",
    "sorted_array = np.sort(array)[::-1]\n",
    "print(sorted_array)\n"
   ]
  },
  {
   "cell_type": "markdown",
   "id": "6a46e818",
   "metadata": {},
   "source": [
    "### Arithmetic Operations on NumPy array"
   ]
  },
  {
   "cell_type": "code",
   "execution_count": 11,
   "id": "e71057bf",
   "metadata": {},
   "outputs": [
    {
     "name": "stdout",
     "output_type": "stream",
     "text": [
      "[[ 0.  1.  2.  3.]\n",
      " [ 4.  5.  6.  7.]\n",
      " [ 8.  9. 10. 11.]]\n",
      "[ 6 12 15 18]\n"
     ]
    }
   ],
   "source": [
    "# Initializing the array\n",
    "arr = np.arange(12, dtype = np.float_).reshape(3, 4) \n",
    "arr1 = np.array([6, 12, 15, 18]) \n",
    "print(arr)\n",
    "print(arr1)"
   ]
  },
  {
   "cell_type": "code",
   "execution_count": 12,
   "id": "0c8dc045",
   "metadata": {},
   "outputs": [
    {
     "name": "stdout",
     "output_type": "stream",
     "text": [
      "[[ 6. 13. 17. 21.]\n",
      " [10. 17. 21. 25.]\n",
      " [14. 21. 25. 29.]]\n"
     ]
    }
   ],
   "source": [
    "# Add two arrays\n",
    "arr2 = np.add(arr, arr1)\n",
    "print(arr2)"
   ]
  },
  {
   "cell_type": "code",
   "execution_count": 13,
   "id": "654663e7",
   "metadata": {},
   "outputs": [
    {
     "name": "stdout",
     "output_type": "stream",
     "text": [
      "[[ -6. -11. -13. -15.]\n",
      " [ -2.  -7.  -9. -11.]\n",
      " [  2.  -3.  -5.  -7.]]\n"
     ]
    }
   ],
   "source": [
    "\n",
    "# Subtracting the two arrays\n",
    "arr2 = np.subtract(arr, arr1)\n",
    "print(arr2)"
   ]
  },
  {
   "cell_type": "code",
   "execution_count": 3,
   "id": "560bd5ae",
   "metadata": {},
   "outputs": [
    {
     "data": {
      "text/plain": [
       "6"
      ]
     },
     "execution_count": 3,
     "metadata": {},
     "output_type": "execute_result"
    }
   ],
   "source": [
    "np.subtract(10,4)"
   ]
  },
  {
   "cell_type": "code",
   "execution_count": 4,
   "id": "c94ff73b",
   "metadata": {},
   "outputs": [],
   "source": [
    "# Example 7: Use numpy.reciprocal() function\n",
    "arr = np.array([50, 1.34, 3, 1, 25]) \n",
    "arr2 = np.reciprocal(arr)"
   ]
  },
  {
   "cell_type": "code",
   "execution_count": 5,
   "id": "26f59033",
   "metadata": {},
   "outputs": [
    {
     "data": {
      "text/plain": [
       "array([0.02      , 0.74626866, 0.33333333, 1.        , 0.04      ])"
      ]
     },
     "execution_count": 5,
     "metadata": {},
     "output_type": "execute_result"
    }
   ],
   "source": [
    "arr2"
   ]
  },
  {
   "cell_type": "code",
   "execution_count": 6,
   "id": "f539df79",
   "metadata": {},
   "outputs": [],
   "source": [
    "# Get multiple square root values \n",
    "arr =np.array([25, 49, 225, 64, 81, 16])\n",
    "arr2 = np.sqrt(arr)"
   ]
  },
  {
   "cell_type": "code",
   "execution_count": 7,
   "id": "c2e30fee",
   "metadata": {},
   "outputs": [
    {
     "data": {
      "text/plain": [
       "array([ 5.,  7., 15.,  8.,  9.,  4.])"
      ]
     },
     "execution_count": 7,
     "metadata": {},
     "output_type": "execute_result"
    }
   ],
   "source": [
    "arr2"
   ]
  },
  {
   "cell_type": "code",
   "execution_count": 8,
   "id": "83fe6f04",
   "metadata": {},
   "outputs": [],
   "source": [
    "# Example 3: Calculate square roots of complex numbers\n",
    "arr = [2+6j, -5-8j, 4-5j, 3+4j]\n",
    "arr2 = np.sqrt(arr)"
   ]
  },
  {
   "cell_type": "code",
   "execution_count": 9,
   "id": "f0e4ec7f",
   "metadata": {},
   "outputs": [
    {
     "data": {
      "text/plain": [
       "array([2.04016609+1.47046852j, 1.4889562 -2.68644571j,\n",
       "       2.28069334-1.09615789j, 2.        +1.j        ])"
      ]
     },
     "execution_count": 9,
     "metadata": {},
     "output_type": "execute_result"
    }
   ],
   "source": [
    "arr2"
   ]
  },
  {
   "cell_type": "code",
   "execution_count": 10,
   "id": "e1a1b673",
   "metadata": {},
   "outputs": [
    {
     "data": {
      "text/plain": [
       "array([ 4,  9, 25, 64, 81, 16])"
      ]
     },
     "execution_count": 10,
     "metadata": {},
     "output_type": "execute_result"
    }
   ],
   "source": [
    "\n",
    "# Example 2: Use numpy.square() function\n",
    "arr = [2, 3, 5, 8, 9, 4]\n",
    "arr2 = np.square(arr)\n",
    "arr2"
   ]
  },
  {
   "cell_type": "code",
   "execution_count": 12,
   "id": "6ddda82c",
   "metadata": {},
   "outputs": [
    {
     "data": {
      "text/plain": [
       "array([1, 1, 1, 1, 1, 1, 1])"
      ]
     },
     "execution_count": 12,
     "metadata": {},
     "output_type": "execute_result"
    }
   ],
   "source": [
    "# Example 2: Create an array of integer ones\n",
    "arr = np.ones(7, dtype = int)\n",
    "arr"
   ]
  },
  {
   "cell_type": "code",
   "execution_count": 13,
   "id": "52f041a6",
   "metadata": {},
   "outputs": [
    {
     "name": "stdout",
     "output_type": "stream",
     "text": [
      "[0 1 2 3 4 5 6 7 8 9]\n"
     ]
    }
   ],
   "source": [
    "# Create 1-D array using arange()\n",
    "arr=np.arange(10)\n",
    "print(arr)"
   ]
  },
  {
   "cell_type": "code",
   "execution_count": 14,
   "id": "8c64703e",
   "metadata": {},
   "outputs": [
    {
     "name": "stdout",
     "output_type": "stream",
     "text": [
      "[[ 0  1  2  3]\n",
      " [ 4  5  6  7]\n",
      " [ 8  9 10 11]]\n"
     ]
    }
   ],
   "source": [
    "# Create an 2-D array using arange() & reshape()\n",
    "arr=np.arange(12).reshape(3,4)\n",
    "print(arr)"
   ]
  },
  {
   "cell_type": "code",
   "execution_count": 15,
   "id": "414b05bb",
   "metadata": {},
   "outputs": [
    {
     "name": "stdout",
     "output_type": "stream",
     "text": [
      "[[ 0  1  2  3]\n",
      " [ 8  9 10 11]]\n"
     ]
    }
   ],
   "source": [
    "\n",
    "# Using delete() to delete the 2nd row\n",
    "arr1=np.delete(arr, 1 , axis = 0)\n",
    "print(arr1)"
   ]
  },
  {
   "cell_type": "code",
   "execution_count": 16,
   "id": "7d10642b",
   "metadata": {},
   "outputs": [
    {
     "name": "stdout",
     "output_type": "stream",
     "text": [
      "[[0 1 2 3]\n",
      " [4 5 6 7]]\n"
     ]
    }
   ],
   "source": [
    "# Using delete() to delete the 3rd row\n",
    "arr1=np.delete(arr, 2 , axis = 0)\n",
    "print(arr1)"
   ]
  },
  {
   "cell_type": "code",
   "execution_count": 17,
   "id": "7f11783f",
   "metadata": {},
   "outputs": [
    {
     "name": "stdout",
     "output_type": "stream",
     "text": [
      "[[ 0  1  3]\n",
      " [ 4  5  7]\n",
      " [ 8  9 11]]\n"
     ]
    }
   ],
   "source": [
    "# Using delete() to delete 2nd column\n",
    "arr1=np.delete(arr, 2 ,  axis = 1)\n",
    "print(arr1)\n"
   ]
  },
  {
   "cell_type": "code",
   "execution_count": 10,
   "id": "39654f0a",
   "metadata": {},
   "outputs": [
    {
     "name": "stdout",
     "output_type": "stream",
     "text": [
      "[11 22]\n"
     ]
    }
   ],
   "source": [
    "arr = np.array([3, 5])\n",
    "arr1 = np.array([1, 2, 4])\n",
    " \n",
    "# Use convolve() method in numpy when mode is ‘full’\n",
    "arr2 = np.convolve(arr, arr1, mode='valid')\n",
    "print(arr2)"
   ]
  },
  {
   "cell_type": "code",
   "execution_count": 11,
   "id": "67e2992a",
   "metadata": {},
   "outputs": [
    {
     "name": "stdout",
     "output_type": "stream",
     "text": [
      "[[12 13 29]\n",
      " [14 16 35]\n",
      " [17 24 41]\n",
      " [19 27 45]]\n"
     ]
    }
   ],
   "source": [
    "# Create a 2-D numpy array\n",
    "arr = np.array([[12, 14,17, 19],[13, 16, 24, 27],[29,35,41,45]])\n",
    "\n",
    "# Get the transpose of an array           \n",
    "arr1 = np.transpose(arr)\n",
    "print(arr1)\n"
   ]
  },
  {
   "cell_type": "code",
   "execution_count": 12,
   "id": "bebf1bea",
   "metadata": {},
   "outputs": [
    {
     "name": "stdout",
     "output_type": "stream",
     "text": [
      "[[12 13 29]\n",
      " [14 16 35]\n",
      " [17 24 41]\n",
      " [19 27 45]]\n"
     ]
    }
   ],
   "source": [
    "# Use ndarray.T object get transpose\n",
    "arr1 = arr.T\n",
    "print(arr1)"
   ]
  },
  {
   "cell_type": "code",
   "execution_count": 3,
   "id": "b2a65e77",
   "metadata": {},
   "outputs": [
    {
     "name": "stdout",
     "output_type": "stream",
     "text": [
      "0.6931471805599453\n"
     ]
    }
   ],
   "source": [
    "# Get the log value of scalar\n",
    "arr = np.array(2)\n",
    "arr1 = np.log(arr)\n",
    "print(arr1)"
   ]
  },
  {
   "cell_type": "code",
   "execution_count": 4,
   "id": "b766234d",
   "metadata": {},
   "outputs": [
    {
     "name": "stdout",
     "output_type": "stream",
     "text": [
      "[0.         1.38629436 1.79175947]\n"
     ]
    }
   ],
   "source": [
    "\n",
    "# Get the log values of an array\n",
    "arr = np.array([1, 4, 6])\n",
    "arr1 = np.log(arr)\n",
    "print(arr1)"
   ]
  },
  {
   "cell_type": "code",
   "execution_count": 7,
   "id": "8bbdddb9",
   "metadata": {},
   "outputs": [
    {
     "name": "stdout",
     "output_type": "stream",
     "text": [
      "[0.         2.32192809 2.5849625 ]\n"
     ]
    }
   ],
   "source": [
    "# Get the log value of an array with base 2\n",
    "arr = np.array([1, 5, 6])\n",
    "arr1 = np.log2(arr)\n",
    "print(arr1)"
   ]
  },
  {
   "cell_type": "code",
   "execution_count": 6,
   "id": "89afa454",
   "metadata": {},
   "outputs": [
    {
     "name": "stdout",
     "output_type": "stream",
     "text": [
      "[0.         0.60205999 0.77815125]\n"
     ]
    }
   ],
   "source": [
    "\n",
    "# Get the log value of an array with base 10\n",
    "arr = np.array([1, 4, 6])\n",
    "arr1 = np.log10(arr)\n",
    "print(arr1)"
   ]
  },
  {
   "cell_type": "code",
   "execution_count": 9,
   "id": "519f0858",
   "metadata": {},
   "outputs": [
    {
     "name": "stdout",
     "output_type": "stream",
     "text": [
      "[ 100.          177.827941    316.22776602  562.34132519 1000.        ]\n"
     ]
    }
   ],
   "source": [
    "# Equally spaced values on log scale between 2 and 3\n",
    "arr = np.logspace(2, 3,num=5)\n",
    "print(arr)"
   ]
  },
  {
   "cell_type": "code",
   "execution_count": 12,
   "id": "18eb258d",
   "metadata": {},
   "outputs": [
    {
     "data": {
      "text/plain": [
       "array([2.        , 2.02040816, 2.04081633, 2.06122449, 2.08163265,\n",
       "       2.10204082, 2.12244898, 2.14285714, 2.16326531, 2.18367347,\n",
       "       2.20408163, 2.2244898 , 2.24489796, 2.26530612, 2.28571429,\n",
       "       2.30612245, 2.32653061, 2.34693878, 2.36734694, 2.3877551 ,\n",
       "       2.40816327, 2.42857143, 2.44897959, 2.46938776, 2.48979592,\n",
       "       2.51020408, 2.53061224, 2.55102041, 2.57142857, 2.59183673,\n",
       "       2.6122449 , 2.63265306, 2.65306122, 2.67346939, 2.69387755,\n",
       "       2.71428571, 2.73469388, 2.75510204, 2.7755102 , 2.79591837,\n",
       "       2.81632653, 2.83673469, 2.85714286, 2.87755102, 2.89795918,\n",
       "       2.91836735, 2.93877551, 2.95918367, 2.97959184, 3.        ])"
      ]
     },
     "execution_count": 12,
     "metadata": {},
     "output_type": "execute_result"
    }
   ],
   "source": [
    " np.linspace(2,3)"
   ]
  },
  {
   "cell_type": "code",
   "execution_count": 16,
   "id": "b818d1ec",
   "metadata": {},
   "outputs": [
    {
     "data": {
      "text/plain": [
       "[<matplotlib.lines.Line2D at 0x208eb3fd610>]"
      ]
     },
     "execution_count": 16,
     "metadata": {},
     "output_type": "execute_result"
    },
    {
     "data": {
      "image/png": "[encoded data removed]",
      "text/plain": [
       "<Figure size 640x480 with 1 Axes>"
      ]
     },
     "metadata": {},
     "output_type": "display_data"
    }
   ],
   "source": [
    "import matplotlib.pyplot as plt\n",
    "arr = np.array([5, 10, 15, 20])\n",
    "arr1 = np.log(arr)\n",
    "plt.plot(arr1, arr, marker='*', color='blue')"
   ]
  },
  {
   "cell_type": "code",
   "execution_count": 24,
   "id": "1107e3e6",
   "metadata": {},
   "outputs": [
    {
     "name": "stdout",
     "output_type": "stream",
     "text": [
      "[['8' '8' '8']\n",
      " ['8' '8' '8']\n",
      " ['8' '8' '8']\n",
      " ['8' '8' '8']]\n"
     ]
    }
   ],
   "source": [
    "# Return Array with dtype=str\n",
    "arr2 = np.full((4,3),fill_value='8',dtype=str)\n",
    "print(arr2)"
   ]
  },
  {
   "cell_type": "code",
   "execution_count": 18,
   "id": "09fb9e31",
   "metadata": {},
   "outputs": [
    {
     "data": {
      "text/plain": [
       "array([['6', '6', '6'],\n",
       "       ['6', '6', '6'],\n",
       "       ['6', '6', '6'],\n",
       "       ['6', '6', '6']], dtype='<U1')"
      ]
     },
     "execution_count": 18,
     "metadata": {},
     "output_type": "execute_result"
    }
   ],
   "source": [
    "np.full(shape=(4,3),fill_value=6,dtype=str)"
   ]
  },
  {
   "cell_type": "code",
   "execution_count": 25,
   "id": "0a225ca9",
   "metadata": {},
   "outputs": [],
   "source": [
    "# Example 1: Use NumPy.hstack() Functions\n",
    "arr = np.array([ 2, 3, 4])\n",
    "arr1 = np.array([5, 6, 7])\n",
    "arr2 = np.hstack((arr,arr1))"
   ]
  },
  {
   "cell_type": "code",
   "execution_count": 26,
   "id": "3e89aa33",
   "metadata": {},
   "outputs": [
    {
     "data": {
      "text/plain": [
       "array([2, 3, 4, 5, 6, 7])"
      ]
     },
     "execution_count": 26,
     "metadata": {},
     "output_type": "execute_result"
    }
   ],
   "source": [
    "arr2"
   ]
  },
  {
   "cell_type": "code",
   "execution_count": 27,
   "id": "5a698519",
   "metadata": {},
   "outputs": [
    {
     "data": {
      "text/plain": [
       "array([[ 2,  3,  5,  6,  8, 10],\n",
       "       [-1, -3, -5, -7, -8, -9]])"
      ]
     },
     "execution_count": 27,
     "metadata": {},
     "output_type": "execute_result"
    }
   ],
   "source": [
    "# Example 2: Use numpy.hstack() function to 2-d numpy arrays\n",
    "arr =  np.array([[ 2, 3, 5], [ -1, -3, -5]])\n",
    "arr1 = np.array([[ 6, 8, 10], [ -7, -8, -9]])\n",
    "arr2 = np.hstack((arr,arr1))\n",
    "arr2"
   ]
  },
  {
   "cell_type": "code",
   "execution_count": 36,
   "id": "8a37de03",
   "metadata": {},
   "outputs": [
    {
     "data": {
      "text/plain": [
       "array([[5, 6],\n",
       "       [4, 8],\n",
       "       [7, 9],\n",
       "       [3, 4]])"
      ]
     },
     "execution_count": 36,
     "metadata": {},
     "output_type": "execute_result"
    }
   ],
   "source": [
    "a=np.array([[5,6],[4,8]])\n",
    "b=np.array([[7,9],[3,4]])\n",
    "np.vstack((a,b))"
   ]
  },
  {
   "cell_type": "code",
   "execution_count": 34,
   "id": "3e449d8f",
   "metadata": {},
   "outputs": [],
   "source": [
    "\n",
    "# Example 4 : Get the 3-D stacked array\n",
    "arr = np.array([[[1, 3], [2, 4]], [[3, 5], [5, 7]]])\n",
    "arr1 = np.array([[[4, 1], [5, 7]], [[6, 8],[3, 5]]])\n",
    "arr2 = np.vstack((arr, arr1))"
   ]
  },
  {
   "cell_type": "code",
   "execution_count": 35,
   "id": "2fa231a7",
   "metadata": {},
   "outputs": [
    {
     "data": {
      "text/plain": [
       "array([[[1, 3],\n",
       "        [2, 4]],\n",
       "\n",
       "       [[3, 5],\n",
       "        [5, 7]],\n",
       "\n",
       "       [[4, 1],\n",
       "        [5, 7]],\n",
       "\n",
       "       [[6, 8],\n",
       "        [3, 5]]])"
      ]
     },
     "execution_count": 35,
     "metadata": {},
     "output_type": "execute_result"
    }
   ],
   "source": [
    "arr2"
   ]
  },
  {
   "cell_type": "code",
   "execution_count": 37,
   "id": "56dec2ef",
   "metadata": {},
   "outputs": [],
   "source": [
    "# Example 1 : Use stack() function get the 2-d array\n",
    "arr = np.array([1, 2, 3])\n",
    "arr1 = np.array([4, 5, 6])\n",
    "arr2 = np.stack((arr, arr1), axis = 0)"
   ]
  },
  {
   "cell_type": "code",
   "execution_count": 38,
   "id": "b3efa417",
   "metadata": {},
   "outputs": [
    {
     "data": {
      "text/plain": [
       "array([[1, 2, 3],\n",
       "       [4, 5, 6]])"
      ]
     },
     "execution_count": 38,
     "metadata": {},
     "output_type": "execute_result"
    }
   ],
   "source": [
    "arr2"
   ]
  },
  {
   "cell_type": "code",
   "execution_count": null,
   "id": "8b2d4e3e",
   "metadata": {},
   "outputs": [],
   "source": []
  }
 ],
 "metadata": {
  "kernelspec": {
   "display_name": "Python 3 (ipykernel)",
   "language": "python",
   "name": "python3"
  },
  "language_info": {
   "codemirror_mode": {
    "name": "ipython",
    "version": 3
   },
   "file_extension": ".py",
   "mimetype": "text/x-python",
   "name": "python",
   "nbconvert_exporter": "python",
   "pygments_lexer": "ipython3",
   "version": "3.11.4"
  }
 },
 "nbformat": 4,
 "nbformat_minor": 5
}
